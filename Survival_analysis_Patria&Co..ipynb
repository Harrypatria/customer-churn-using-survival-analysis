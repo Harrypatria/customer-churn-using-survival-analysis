{
 "cells": [
  {
   "cell_type": "markdown",
   "id": "8673c55b",
   "metadata": {},
   "source": [
    "# Survival analysis by Patria & Co."
   ]
  },
  {
   "cell_type": "markdown",
   "id": "cd6a56a0",
   "metadata": {},
   "source": [
    "The dataset contains 3 tables of our interset:\n",
    "\n",
    "  1. Members. Information about customers, such as gender, age, etc.\n",
    "  2. Train. Churn label for each customer.\n",
    "  3. Transactions. Historical transactions with dates, subscription plans, etc."
   ]
  },
  {
   "cell_type": "code",
   "execution_count": 12,
   "id": "b9d2c8c1",
   "metadata": {},
   "outputs": [],
   "source": [
    "import pandas as pd\n",
    "from pandas.api.types import CategoricalDtype\n",
    "import numpy as np\n",
    "from matplotlib import pyplot as plt\n",
    "from matplotlib import ticker\n",
    "%matplotlib inline\n",
    "plt.style.use('ggplot')\n",
    "import seaborn as sns\n",
    "import datetime\n",
    "\n",
    "\n",
    "pd.set_option(\"display.max_rows\", 100)\n",
    "pd.set_option(\"display.max_columns\", 500)\n",
    "pd.set_option(\"display.width\", 1000)"
   ]
  },
  {
   "cell_type": "code",
   "execution_count": 3,
   "id": "48316114",
   "metadata": {},
   "outputs": [],
   "source": [
    "# For each table let's do some basic EDA and cleaning.\n",
    "members = pd.read_csv('C:/Users/Harry Patria/Documents/Survival Analysis/data_churn/members_v3.csv', \n",
    "                      sep=',', \n",
    "                      parse_dates=['registration_init_time'],\n",
    "                      dtype={'msno': str, \n",
    "                             'city': np.int8, \n",
    "                             'gender': CategoricalDtype(categories=['female', 'male']), \n",
    "                             'registered_via': np.int8, \n",
    "                             'registration_init_time': str}\n",
    "                     )"
   ]
  },
  {
   "cell_type": "code",
   "execution_count": 4,
   "id": "16ca6f73",
   "metadata": {},
   "outputs": [
    {
     "name": "stdout",
     "output_type": "stream",
     "text": [
      "<class 'pandas.core.frame.DataFrame'>\n",
      "RangeIndex: 6769473 entries, 0 to 6769472\n",
      "Data columns (total 6 columns):\n",
      " #   Column                  Dtype         \n",
      "---  ------                  -----         \n",
      " 0   msno                    object        \n",
      " 1   city                    int8          \n",
      " 2   bd                      int64         \n",
      " 3   gender                  category      \n",
      " 4   registered_via          int8          \n",
      " 5   registration_init_time  datetime64[ns]\n",
      "dtypes: category(1), datetime64[ns](1), int64(1), int8(2), object(1)\n",
      "memory usage: 174.3+ MB\n"
     ]
    }
   ],
   "source": [
    "members.info()"
   ]
  },
  {
   "cell_type": "code",
   "execution_count": 5,
   "id": "8585c586",
   "metadata": {},
   "outputs": [
    {
     "name": "stdout",
     "output_type": "stream",
     "text": [
      "(6769473, 6)\n"
     ]
    },
    {
     "data": {
      "text/html": [
       "<div>\n",
       "<style scoped>\n",
       "    .dataframe tbody tr th:only-of-type {\n",
       "        vertical-align: middle;\n",
       "    }\n",
       "\n",
       "    .dataframe tbody tr th {\n",
       "        vertical-align: top;\n",
       "    }\n",
       "\n",
       "    .dataframe thead th {\n",
       "        text-align: right;\n",
       "    }\n",
       "</style>\n",
       "<table border=\"1\" class=\"dataframe\">\n",
       "  <thead>\n",
       "    <tr style=\"text-align: right;\">\n",
       "      <th></th>\n",
       "      <th>msno</th>\n",
       "      <th>city</th>\n",
       "      <th>bd</th>\n",
       "      <th>gender</th>\n",
       "      <th>registered_via</th>\n",
       "      <th>registration_init_time</th>\n",
       "    </tr>\n",
       "  </thead>\n",
       "  <tbody>\n",
       "    <tr>\n",
       "      <th>0</th>\n",
       "      <td>Rb9UwLQTrxzBVwCB6+bCcSQWZ9JiNLC9dXtM1oEsZA8=</td>\n",
       "      <td>1</td>\n",
       "      <td>0</td>\n",
       "      <td>NaN</td>\n",
       "      <td>11</td>\n",
       "      <td>2011-09-11</td>\n",
       "    </tr>\n",
       "    <tr>\n",
       "      <th>1</th>\n",
       "      <td>+tJonkh+O1CA796Fm5X60UMOtB6POHAwPjbTRVl/EuU=</td>\n",
       "      <td>1</td>\n",
       "      <td>0</td>\n",
       "      <td>NaN</td>\n",
       "      <td>7</td>\n",
       "      <td>2011-09-14</td>\n",
       "    </tr>\n",
       "    <tr>\n",
       "      <th>2</th>\n",
       "      <td>cV358ssn7a0f7jZOwGNWS07wCKVqxyiImJUX6xcIwKw=</td>\n",
       "      <td>1</td>\n",
       "      <td>0</td>\n",
       "      <td>NaN</td>\n",
       "      <td>11</td>\n",
       "      <td>2011-09-15</td>\n",
       "    </tr>\n",
       "    <tr>\n",
       "      <th>3</th>\n",
       "      <td>9bzDeJP6sQodK73K5CBlJ6fgIQzPeLnRl0p5B77XP+g=</td>\n",
       "      <td>1</td>\n",
       "      <td>0</td>\n",
       "      <td>NaN</td>\n",
       "      <td>11</td>\n",
       "      <td>2011-09-15</td>\n",
       "    </tr>\n",
       "    <tr>\n",
       "      <th>4</th>\n",
       "      <td>WFLY3s7z4EZsieHCt63XrsdtfTEmJ+2PnnKLH5GY4Tk=</td>\n",
       "      <td>6</td>\n",
       "      <td>32</td>\n",
       "      <td>female</td>\n",
       "      <td>9</td>\n",
       "      <td>2011-09-15</td>\n",
       "    </tr>\n",
       "  </tbody>\n",
       "</table>\n",
       "</div>"
      ],
      "text/plain": [
       "                                           msno  city  bd  gender  registered_via registration_init_time\n",
       "0  Rb9UwLQTrxzBVwCB6+bCcSQWZ9JiNLC9dXtM1oEsZA8=     1   0     NaN              11             2011-09-11\n",
       "1  +tJonkh+O1CA796Fm5X60UMOtB6POHAwPjbTRVl/EuU=     1   0     NaN               7             2011-09-14\n",
       "2  cV358ssn7a0f7jZOwGNWS07wCKVqxyiImJUX6xcIwKw=     1   0     NaN              11             2011-09-15\n",
       "3  9bzDeJP6sQodK73K5CBlJ6fgIQzPeLnRl0p5B77XP+g=     1   0     NaN              11             2011-09-15\n",
       "4  WFLY3s7z4EZsieHCt63XrsdtfTEmJ+2PnnKLH5GY4Tk=     6  32  female               9             2011-09-15"
      ]
     },
     "execution_count": 5,
     "metadata": {},
     "output_type": "execute_result"
    }
   ],
   "source": [
    "print(members.shape)\n",
    "\n",
    "members.head()"
   ]
  },
  {
   "cell_type": "code",
   "execution_count": 7,
   "id": "dd5785e5",
   "metadata": {},
   "outputs": [
    {
     "data": {
      "text/plain": [
       "6769473"
      ]
     },
     "execution_count": 7,
     "metadata": {},
     "output_type": "execute_result"
    }
   ],
   "source": [
    "# Check that each row has unique customer_id (msno)\n",
    "members['msno'].nunique()"
   ]
  },
  {
   "cell_type": "markdown",
   "id": "6842e7b6",
   "metadata": {},
   "source": [
    "There are customers yonger than 10 and older than 100 years old. Let's change these values to NaN"
   ]
  },
  {
   "cell_type": "code",
   "execution_count": 8,
   "id": "ce46cb86",
   "metadata": {},
   "outputs": [],
   "source": [
    "members.loc[members['bd'] < 10,'bd'] = np.nan\n",
    "members.loc[members['bd'] > 100,'bd'] = np.nan"
   ]
  },
  {
   "cell_type": "markdown",
   "id": "abc2eacd",
   "metadata": {},
   "source": [
    "Age and gender are only have NAs"
   ]
  },
  {
   "cell_type": "code",
   "execution_count": 9,
   "id": "6eae3aa1",
   "metadata": {},
   "outputs": [
    {
     "data": {
      "text/plain": [
       "msno                            0\n",
       "city                            0\n",
       "bd                        4546765\n",
       "gender                    4429505\n",
       "registered_via                  0\n",
       "registration_init_time          0\n",
       "dtype: int64"
      ]
     },
     "execution_count": 9,
     "metadata": {},
     "output_type": "execute_result"
    }
   ],
   "source": [
    "members.isnull().sum()"
   ]
  },
  {
   "cell_type": "code",
   "execution_count": 10,
   "id": "8d89b4c9",
   "metadata": {},
   "outputs": [
    {
     "data": {
      "text/plain": [
       "city\n",
       "1     0.71\n",
       "5     0.06\n",
       "13    0.05\n",
       "4     0.04\n",
       "22    0.03\n",
       "15    0.03\n",
       "6     0.02\n",
       "14    0.01\n",
       "12    0.01\n",
       "9     0.01\n",
       "11    0.01\n",
       "8     0.01\n",
       "18    0.01\n",
       "10    0.00\n",
       "21    0.00\n",
       "17    0.00\n",
       "3     0.00\n",
       "7     0.00\n",
       "16    0.00\n",
       "20    0.00\n",
       "19    0.00\n",
       "Name: msno, dtype: float64"
      ]
     },
     "execution_count": 10,
     "metadata": {},
     "output_type": "execute_result"
    }
   ],
   "source": [
    "(members.groupby(['city'])['msno'].count() / members.shape[0]).sort_values(ascending=False).round(2)"
   ]
  },
  {
   "cell_type": "markdown",
   "id": "08de0e02",
   "metadata": {},
   "source": [
    "Age distribution. Main portion of users is between 20 and 40 y.o."
   ]
  },
  {
   "cell_type": "code",
   "execution_count": 13,
   "id": "c5a080c9",
   "metadata": {},
   "outputs": [
    {
     "name": "stderr",
     "output_type": "stream",
     "text": [
      "C:\\Users\\Harry Patria\\anaconda3\\lib\\site-packages\\seaborn\\distributions.py:2619: FutureWarning: `distplot` is a deprecated function and will be removed in a future version. Please adapt your code to use either `displot` (a figure-level function with similar flexibility) or `histplot` (an axes-level function for histograms).\n",
      "  warnings.warn(msg, FutureWarning)\n"
     ]
    },
    {
     "data": {
      "image/png": "[encoded data removed]",
      "text/plain": [
       "<Figure size 1120x800 with 1 Axes>"
      ]
     },
     "metadata": {},
     "output_type": "display_data"
    }
   ],
   "source": [
    "plt.figure(figsize=(14, 10), dpi=80)\n",
    "sns.distplot(members['bd'].dropna())\n",
    "plt.show()"
   ]
  },
  {
   "cell_type": "markdown",
   "id": "26af9c2f",
   "metadata": {},
   "source": [
    "Gender equally splitted"
   ]
  },
  {
   "cell_type": "code",
   "execution_count": 14,
   "id": "263be5f4",
   "metadata": {},
   "outputs": [
    {
     "data": {
      "text/plain": [
       "gender\n",
       "male      0.51\n",
       "female    0.49\n",
       "Name: msno, dtype: float64"
      ]
     },
     "execution_count": 14,
     "metadata": {},
     "output_type": "execute_result"
    }
   ],
   "source": [
    "(members.groupby(['gender'])['msno'].count() / members.dropna(subset=['gender']).shape[0]).sort_values(ascending=False).round(2)"
   ]
  },
  {
   "cell_type": "markdown",
   "id": "e00770c5",
   "metadata": {},
   "source": [
    "We see different channels of attraction in the dataset"
   ]
  },
  {
   "cell_type": "code",
   "execution_count": 15,
   "id": "b6ca48ee",
   "metadata": {},
   "outputs": [
    {
     "data": {
      "text/plain": [
       "registered_via\n",
       " 4     0.41\n",
       " 3     0.24\n",
       " 9     0.22\n",
       " 7     0.12\n",
       " 11    0.00\n",
       " 13    0.00\n",
       " 8     0.00\n",
       " 5     0.00\n",
       " 17    0.00\n",
       " 2     0.00\n",
       " 6     0.00\n",
       " 19    0.00\n",
       " 16    0.00\n",
       " 14    0.00\n",
       " 1     0.00\n",
       " 10    0.00\n",
       " 18    0.00\n",
       "-1     0.00\n",
       "Name: msno, dtype: float64"
      ]
     },
     "execution_count": 15,
     "metadata": {},
     "output_type": "execute_result"
    }
   ],
   "source": [
    "(members.groupby(['registered_via'])['msno'].count() / members.shape[0]).sort_values(ascending=False).round(2)"
   ]
  },
  {
   "cell_type": "code",
   "execution_count": 16,
   "id": "85c39b82",
   "metadata": {},
   "outputs": [
    {
     "data": {
      "image/png": "[encoded data removed]",
      "text/plain": [
       "<Figure size 1120x800 with 1 Axes>"
      ]
     },
     "metadata": {},
     "output_type": "display_data"
    }
   ],
   "source": [
    "plt.figure(figsize=(14, 10), dpi=80)\n",
    "plt.plot(members.groupby(['registration_init_time'])['msno'].count())\n",
    "plt.show()"
   ]
  },
  {
   "cell_type": "code",
   "execution_count": 17,
   "id": "d4e131c9",
   "metadata": {},
   "outputs": [],
   "source": [
    "train = pd.read_csv('C:/Users/Harry Patria/Documents/Survival Analysis/data_churn/train.csv', \n",
    "                    sep=',', \n",
    "                    dtype={'msno': str, \n",
    "                           'is_churn': np.int8}\n",
    "                     )"
   ]
  },
  {
   "cell_type": "code",
   "execution_count": 18,
   "id": "b36b57a3",
   "metadata": {},
   "outputs": [
    {
     "name": "stdout",
     "output_type": "stream",
     "text": [
      "<class 'pandas.core.frame.DataFrame'>\n",
      "RangeIndex: 992931 entries, 0 to 992930\n",
      "Data columns (total 2 columns):\n",
      " #   Column    Non-Null Count   Dtype \n",
      "---  ------    --------------   ----- \n",
      " 0   msno      992931 non-null  object\n",
      " 1   is_churn  992931 non-null  int8  \n",
      "dtypes: int8(1), object(1)\n",
      "memory usage: 8.5+ MB\n"
     ]
    }
   ],
   "source": [
    "train.info()"
   ]
  },
  {
   "cell_type": "code",
   "execution_count": 19,
   "id": "aa4fe131",
   "metadata": {},
   "outputs": [
    {
     "name": "stdout",
     "output_type": "stream",
     "text": [
      "(992931, 2)\n"
     ]
    },
    {
     "data": {
      "text/html": [
       "<div>\n",
       "<style scoped>\n",
       "    .dataframe tbody tr th:only-of-type {\n",
       "        vertical-align: middle;\n",
       "    }\n",
       "\n",
       "    .dataframe tbody tr th {\n",
       "        vertical-align: top;\n",
       "    }\n",
       "\n",
       "    .dataframe thead th {\n",
       "        text-align: right;\n",
       "    }\n",
       "</style>\n",
       "<table border=\"1\" class=\"dataframe\">\n",
       "  <thead>\n",
       "    <tr style=\"text-align: right;\">\n",
       "      <th></th>\n",
       "      <th>msno</th>\n",
       "      <th>is_churn</th>\n",
       "    </tr>\n",
       "  </thead>\n",
       "  <tbody>\n",
       "    <tr>\n",
       "      <th>0</th>\n",
       "      <td>waLDQMmcOu2jLDaV1ddDkgCrB/jl6sD66Xzs0Vqax1Y=</td>\n",
       "      <td>1</td>\n",
       "    </tr>\n",
       "    <tr>\n",
       "      <th>1</th>\n",
       "      <td>QA7uiXy8vIbUSPOkCf9RwQ3FsT8jVq2OxDr8zqa7bRQ=</td>\n",
       "      <td>1</td>\n",
       "    </tr>\n",
       "    <tr>\n",
       "      <th>2</th>\n",
       "      <td>fGwBva6hikQmTJzrbz/2Ezjm5Cth5jZUNvXigKK2AFA=</td>\n",
       "      <td>1</td>\n",
       "    </tr>\n",
       "    <tr>\n",
       "      <th>3</th>\n",
       "      <td>mT5V8rEpa+8wuqi6x0DoVd3H5icMKkE9Prt49UlmK+4=</td>\n",
       "      <td>1</td>\n",
       "    </tr>\n",
       "    <tr>\n",
       "      <th>4</th>\n",
       "      <td>XaPhtGLk/5UvvOYHcONTwsnH97P4eGECeq+BARGItRw=</td>\n",
       "      <td>1</td>\n",
       "    </tr>\n",
       "  </tbody>\n",
       "</table>\n",
       "</div>"
      ],
      "text/plain": [
       "                                           msno  is_churn\n",
       "0  waLDQMmcOu2jLDaV1ddDkgCrB/jl6sD66Xzs0Vqax1Y=         1\n",
       "1  QA7uiXy8vIbUSPOkCf9RwQ3FsT8jVq2OxDr8zqa7bRQ=         1\n",
       "2  fGwBva6hikQmTJzrbz/2Ezjm5Cth5jZUNvXigKK2AFA=         1\n",
       "3  mT5V8rEpa+8wuqi6x0DoVd3H5icMKkE9Prt49UlmK+4=         1\n",
       "4  XaPhtGLk/5UvvOYHcONTwsnH97P4eGECeq+BARGItRw=         1"
      ]
     },
     "execution_count": 19,
     "metadata": {},
     "output_type": "execute_result"
    }
   ],
   "source": [
    "print(train.shape)\n",
    "\n",
    "train.head()"
   ]
  },
  {
   "cell_type": "markdown",
   "id": "3ea37bbc",
   "metadata": {},
   "source": [
    "Check that each row has unique customer_id (msno)"
   ]
  },
  {
   "cell_type": "code",
   "execution_count": 20,
   "id": "6186ccf7",
   "metadata": {},
   "outputs": [
    {
     "data": {
      "text/plain": [
       "992931"
      ]
     },
     "execution_count": 20,
     "metadata": {},
     "output_type": "execute_result"
    }
   ],
   "source": [
    "train['msno'].nunique()"
   ]
  },
  {
   "cell_type": "markdown",
   "id": "ffd7b491",
   "metadata": {},
   "source": [
    "No NAs"
   ]
  },
  {
   "cell_type": "code",
   "execution_count": 21,
   "id": "2df246e7",
   "metadata": {},
   "outputs": [
    {
     "data": {
      "text/plain": [
       "msno        0\n",
       "is_churn    0\n",
       "dtype: int64"
      ]
     },
     "execution_count": 21,
     "metadata": {},
     "output_type": "execute_result"
    }
   ],
   "source": [
    "train.isnull().sum()"
   ]
  },
  {
   "cell_type": "markdown",
   "id": "2cac18eb",
   "metadata": {},
   "source": [
    "Only 6% churned out"
   ]
  },
  {
   "cell_type": "code",
   "execution_count": 22,
   "id": "b70f9470",
   "metadata": {},
   "outputs": [
    {
     "data": {
      "text/plain": [
       "is_churn\n",
       "0    0.94\n",
       "1    0.06\n",
       "Name: msno, dtype: float64"
      ]
     },
     "execution_count": 22,
     "metadata": {},
     "output_type": "execute_result"
    }
   ],
   "source": [
    "(train.groupby(['is_churn'])['msno'].count() / train.shape[0]).sort_values(ascending=False).round(2)"
   ]
  },
  {
   "cell_type": "code",
   "execution_count": 24,
   "id": "d5288c4d",
   "metadata": {},
   "outputs": [],
   "source": [
    "transactions = pd.read_csv('C:/Users/Harry Patria/Documents/Survival Analysis/data_churn/transactions.csv', \n",
    "                           sep=',', \n",
    "                           parse_dates=['transaction_date', 'membership_expire_date'],\n",
    "                           dtype={'msno': str, \n",
    "                                  'payment_method_id': np.int8, \n",
    "                                  'payment_plan_days': np.int16, \n",
    "                                  'plan_list_price': np.int16, \n",
    "                                  'actual_amount_paid': np.int16, \n",
    "                                  'is_auto_renew': np.int8, \n",
    "                                  'transaction_date': str, \n",
    "                                  'membership_expire_date': str, \n",
    "                                  'is_cancel': np.int8\n",
    "                                },\n",
    "                     )"
   ]
  },
  {
   "cell_type": "code",
   "execution_count": 25,
   "id": "8c016cd7",
   "metadata": {},
   "outputs": [
    {
     "name": "stdout",
     "output_type": "stream",
     "text": [
      "<class 'pandas.core.frame.DataFrame'>\n",
      "RangeIndex: 21547746 entries, 0 to 21547745\n",
      "Data columns (total 9 columns):\n",
      " #   Column                  Dtype         \n",
      "---  ------                  -----         \n",
      " 0   msno                    object        \n",
      " 1   payment_method_id       int8          \n",
      " 2   payment_plan_days       int16         \n",
      " 3   plan_list_price         int16         \n",
      " 4   actual_amount_paid      int16         \n",
      " 5   is_auto_renew           int8          \n",
      " 6   transaction_date        datetime64[ns]\n",
      " 7   membership_expire_date  datetime64[ns]\n",
      " 8   is_cancel               int8          \n",
      "dtypes: datetime64[ns](2), int16(3), int8(3), object(1)\n",
      "memory usage: 678.1+ MB\n"
     ]
    }
   ],
   "source": [
    "transactions.info()"
   ]
  },
  {
   "cell_type": "code",
   "execution_count": 26,
   "id": "cf2c1744",
   "metadata": {},
   "outputs": [
    {
     "name": "stdout",
     "output_type": "stream",
     "text": [
      "(21547746, 9)\n"
     ]
    },
    {
     "data": {
      "text/html": [
       "<div>\n",
       "<style scoped>\n",
       "    .dataframe tbody tr th:only-of-type {\n",
       "        vertical-align: middle;\n",
       "    }\n",
       "\n",
       "    .dataframe tbody tr th {\n",
       "        vertical-align: top;\n",
       "    }\n",
       "\n",
       "    .dataframe thead th {\n",
       "        text-align: right;\n",
       "    }\n",
       "</style>\n",
       "<table border=\"1\" class=\"dataframe\">\n",
       "  <thead>\n",
       "    <tr style=\"text-align: right;\">\n",
       "      <th></th>\n",
       "      <th>msno</th>\n",
       "      <th>payment_method_id</th>\n",
       "      <th>payment_plan_days</th>\n",
       "      <th>plan_list_price</th>\n",
       "      <th>actual_amount_paid</th>\n",
       "      <th>is_auto_renew</th>\n",
       "      <th>transaction_date</th>\n",
       "      <th>membership_expire_date</th>\n",
       "      <th>is_cancel</th>\n",
       "    </tr>\n",
       "  </thead>\n",
       "  <tbody>\n",
       "    <tr>\n",
       "      <th>0</th>\n",
       "      <td>YyO+tlZtAXYXoZhNr3Vg3+dfVQvrBVGO8j1mfqe4ZHc=</td>\n",
       "      <td>41</td>\n",
       "      <td>30</td>\n",
       "      <td>129</td>\n",
       "      <td>129</td>\n",
       "      <td>1</td>\n",
       "      <td>2015-09-30</td>\n",
       "      <td>2015-11-01</td>\n",
       "      <td>0</td>\n",
       "    </tr>\n",
       "    <tr>\n",
       "      <th>1</th>\n",
       "      <td>AZtu6Wl0gPojrEQYB8Q3vBSmE2wnZ3hi1FbK1rQQ0A4=</td>\n",
       "      <td>41</td>\n",
       "      <td>30</td>\n",
       "      <td>149</td>\n",
       "      <td>149</td>\n",
       "      <td>1</td>\n",
       "      <td>2015-09-30</td>\n",
       "      <td>2015-10-31</td>\n",
       "      <td>0</td>\n",
       "    </tr>\n",
       "    <tr>\n",
       "      <th>2</th>\n",
       "      <td>UkDFI97Qb6+s2LWcijVVv4rMAsORbVDT2wNXF0aVbns=</td>\n",
       "      <td>41</td>\n",
       "      <td>30</td>\n",
       "      <td>129</td>\n",
       "      <td>129</td>\n",
       "      <td>1</td>\n",
       "      <td>2015-09-30</td>\n",
       "      <td>2016-04-27</td>\n",
       "      <td>0</td>\n",
       "    </tr>\n",
       "    <tr>\n",
       "      <th>3</th>\n",
       "      <td>M1C56ijxozNaGD0t2h68PnH2xtx5iO5iR2MVYQB6nBI=</td>\n",
       "      <td>39</td>\n",
       "      <td>30</td>\n",
       "      <td>149</td>\n",
       "      <td>149</td>\n",
       "      <td>1</td>\n",
       "      <td>2015-09-30</td>\n",
       "      <td>2015-11-28</td>\n",
       "      <td>0</td>\n",
       "    </tr>\n",
       "    <tr>\n",
       "      <th>4</th>\n",
       "      <td>yvj6zyBUaqdbUQSrKsrZ+xNDVM62knauSZJzakS9OW4=</td>\n",
       "      <td>39</td>\n",
       "      <td>30</td>\n",
       "      <td>149</td>\n",
       "      <td>149</td>\n",
       "      <td>1</td>\n",
       "      <td>2015-09-30</td>\n",
       "      <td>2015-11-21</td>\n",
       "      <td>0</td>\n",
       "    </tr>\n",
       "  </tbody>\n",
       "</table>\n",
       "</div>"
      ],
      "text/plain": [
       "                                           msno  payment_method_id  payment_plan_days  plan_list_price  actual_amount_paid  is_auto_renew transaction_date membership_expire_date  is_cancel\n",
       "0  YyO+tlZtAXYXoZhNr3Vg3+dfVQvrBVGO8j1mfqe4ZHc=                 41                 30              129                 129              1       2015-09-30             2015-11-01          0\n",
       "1  AZtu6Wl0gPojrEQYB8Q3vBSmE2wnZ3hi1FbK1rQQ0A4=                 41                 30              149                 149              1       2015-09-30             2015-10-31          0\n",
       "2  UkDFI97Qb6+s2LWcijVVv4rMAsORbVDT2wNXF0aVbns=                 41                 30              129                 129              1       2015-09-30             2016-04-27          0\n",
       "3  M1C56ijxozNaGD0t2h68PnH2xtx5iO5iR2MVYQB6nBI=                 39                 30              149                 149              1       2015-09-30             2015-11-28          0\n",
       "4  yvj6zyBUaqdbUQSrKsrZ+xNDVM62knauSZJzakS9OW4=                 39                 30              149                 149              1       2015-09-30             2015-11-21          0"
      ]
     },
     "execution_count": 26,
     "metadata": {},
     "output_type": "execute_result"
    }
   ],
   "source": [
    "print(transactions.shape)\n",
    "\n",
    "transactions.head()"
   ]
  },
  {
   "cell_type": "markdown",
   "id": "6c2037e5",
   "metadata": {},
   "source": [
    "Orders per customer distribution"
   ]
  },
  {
   "cell_type": "code",
   "execution_count": 27,
   "id": "4a693fe6",
   "metadata": {},
   "outputs": [],
   "source": [
    "transactions.loc[transactions['membership_expire_date'] < '2015-01-01','membership_expire_date'] = np.nan"
   ]
  },
  {
   "cell_type": "code",
   "execution_count": 28,
   "id": "de18bb9b",
   "metadata": {},
   "outputs": [
    {
     "data": {
      "text/plain": [
       "payment_method_id\n",
       "41    0.53\n",
       "40    0.10\n",
       "38    0.08\n",
       "39    0.07\n",
       "37    0.05\n",
       "36    0.04\n",
       "34    0.03\n",
       "35    0.03\n",
       "33    0.02\n",
       "31    0.01\n",
       "30    0.01\n",
       "32    0.01\n",
       "29    0.01\n",
       "28    0.00\n",
       "27    0.00\n",
       "23    0.00\n",
       "19    0.00\n",
       "20    0.00\n",
       "21    0.00\n",
       "22    0.00\n",
       "24    0.00\n",
       "18    0.00\n",
       "25    0.00\n",
       "14    0.00\n",
       "16    0.00\n",
       "17    0.00\n",
       "13    0.00\n",
       "26    0.00\n",
       "12    0.00\n",
       "11    0.00\n",
       "15    0.00\n",
       "10    0.00\n",
       "7     0.00\n",
       "8     0.00\n",
       "5     0.00\n",
       "6     0.00\n",
       "3     0.00\n",
       "2     0.00\n",
       "4     0.00\n",
       "1     0.00\n",
       "Name: msno, dtype: float64"
      ]
     },
     "execution_count": 28,
     "metadata": {},
     "output_type": "execute_result"
    }
   ],
   "source": [
    "(transactions.groupby(['payment_method_id'])['msno'].count() / transactions.shape[0]).sort_values(ascending=False).round(2)"
   ]
  },
  {
   "cell_type": "code",
   "execution_count": 29,
   "id": "cdef93d6",
   "metadata": {},
   "outputs": [
    {
     "data": {
      "text/plain": [
       "payment_plan_days\n",
       "30     0.88\n",
       "0      0.04\n",
       "31     0.04\n",
       "7      0.03\n",
       "195    0.01\n",
       "410    0.00\n",
       "180    0.00\n",
       "10     0.00\n",
       "100    0.00\n",
       "90     0.00\n",
       "395    0.00\n",
       "120    0.00\n",
       "60     0.00\n",
       "14     0.00\n",
       "200    0.00\n",
       "360    0.00\n",
       "1      0.00\n",
       "400    0.00\n",
       "450    0.00\n",
       "240    0.00\n",
       "45     0.00\n",
       "21     0.00\n",
       "35     0.00\n",
       "70     0.00\n",
       "80     0.00\n",
       "99     0.00\n",
       "365    0.00\n",
       "270    0.00\n",
       "66     0.00\n",
       "110    0.00\n",
       "230    0.00\n",
       "2      0.00\n",
       "3      0.00\n",
       "15     0.00\n",
       "415    0.00\n",
       "425    0.00\n",
       "95     0.00\n",
       "Name: msno, dtype: float64"
      ]
     },
     "execution_count": 29,
     "metadata": {},
     "output_type": "execute_result"
    }
   ],
   "source": [
    "(transactions.groupby(['payment_plan_days'])['msno'].count() / transactions.shape[0]).sort_values(ascending=False).round(2)"
   ]
  },
  {
   "cell_type": "code",
   "execution_count": 30,
   "id": "2fae4c18",
   "metadata": {},
   "outputs": [
    {
     "data": {
      "text/plain": [
       "plan_list_price\n",
       "149     0.58\n",
       "99      0.23\n",
       "0       0.07\n",
       "129     0.05\n",
       "180     0.03\n",
       "150     0.02\n",
       "894     0.01\n",
       "100     0.00\n",
       "1788    0.00\n",
       "536     0.00\n",
       "119     0.00\n",
       "480     0.00\n",
       "1599    0.00\n",
       "477     0.00\n",
       "35      0.00\n",
       "799     0.00\n",
       "300     0.00\n",
       "120     0.00\n",
       "1200    0.00\n",
       "298     0.00\n",
       "930     0.00\n",
       "447     0.00\n",
       "134     0.00\n",
       "450     0.00\n",
       "500     0.00\n",
       "50      0.00\n",
       "699     0.00\n",
       "1000    0.00\n",
       "124     0.00\n",
       "350     0.00\n",
       "131     0.00\n",
       "105     0.00\n",
       "400     0.00\n",
       "70      0.00\n",
       "143     0.00\n",
       "2000    0.00\n",
       "1       0.00\n",
       "1150    0.00\n",
       "126     0.00\n",
       "596     0.00\n",
       "10      0.00\n",
       "15      0.00\n",
       "210     0.00\n",
       "265     0.00\n",
       "1520    0.00\n",
       "800     0.00\n",
       "30      0.00\n",
       "600     0.00\n",
       "760     0.00\n",
       "1825    0.00\n",
       "44      0.00\n",
       "Name: msno, dtype: float64"
      ]
     },
     "execution_count": 30,
     "metadata": {},
     "output_type": "execute_result"
    }
   ],
   "source": [
    "(transactions.groupby(['plan_list_price'])['msno'].count() / transactions.shape[0]).sort_values(ascending=False).round(2)"
   ]
  },
  {
   "cell_type": "code",
   "execution_count": 31,
   "id": "a8e63358",
   "metadata": {},
   "outputs": [
    {
     "data": {
      "text/plain": [
       "actual_amount_paid\n",
       "149     0.58\n",
       "99      0.23\n",
       "0       0.06\n",
       "129     0.05\n",
       "180     0.03\n",
       "150     0.02\n",
       "119     0.02\n",
       "894     0.01\n",
       "1788    0.00\n",
       "100     0.00\n",
       "536     0.00\n",
       "480     0.00\n",
       "1599    0.00\n",
       "477     0.00\n",
       "35      0.00\n",
       "799     0.00\n",
       "300     0.00\n",
       "1200    0.00\n",
       "298     0.00\n",
       "930     0.00\n",
       "120     0.00\n",
       "134     0.00\n",
       "447     0.00\n",
       "450     0.00\n",
       "500     0.00\n",
       "50      0.00\n",
       "699     0.00\n",
       "1000    0.00\n",
       "350     0.00\n",
       "124     0.00\n",
       "131     0.00\n",
       "105     0.00\n",
       "400     0.00\n",
       "70      0.00\n",
       "143     0.00\n",
       "2000    0.00\n",
       "1       0.00\n",
       "1150    0.00\n",
       "127     0.00\n",
       "596     0.00\n",
       "10      0.00\n",
       "15      0.00\n",
       "210     0.00\n",
       "265     0.00\n",
       "1520    0.00\n",
       "800     0.00\n",
       "30      0.00\n",
       "41      0.00\n",
       "760     0.00\n",
       "600     0.00\n",
       "1825    0.00\n",
       "45      0.00\n",
       "849     0.00\n",
       "1799    0.00\n",
       "1800    0.00\n",
       "1802    0.00\n",
       "890     0.00\n",
       "Name: msno, dtype: float64"
      ]
     },
     "execution_count": 31,
     "metadata": {},
     "output_type": "execute_result"
    }
   ],
   "source": [
    "(transactions.groupby(['actual_amount_paid'])['msno'].count() / transactions.shape[0]).sort_values(ascending=False).round(2)"
   ]
  },
  {
   "cell_type": "code",
   "execution_count": 32,
   "id": "6ee89397",
   "metadata": {},
   "outputs": [
    {
     "data": {
      "text/plain": [
       "is_auto_renew\n",
       "1    0.85\n",
       "0    0.15\n",
       "Name: msno, dtype: float64"
      ]
     },
     "execution_count": 32,
     "metadata": {},
     "output_type": "execute_result"
    }
   ],
   "source": [
    "(transactions.groupby(['is_auto_renew'])['msno'].count() / transactions.shape[0]).sort_values(ascending=False).round(2)"
   ]
  },
  {
   "cell_type": "markdown",
   "id": "097976d2",
   "metadata": {},
   "source": [
    "Transactions dynamics. We can see spikes at the beginning of each month."
   ]
  },
  {
   "cell_type": "code",
   "execution_count": 33,
   "id": "d0bf7b36",
   "metadata": {},
   "outputs": [
    {
     "data": {
      "image/png": "[encoded data removed]",
      "text/plain": [
       "<Figure size 1120x800 with 1 Axes>"
      ]
     },
     "metadata": {},
     "output_type": "display_data"
    }
   ],
   "source": [
    "plt.figure(figsize=(14, 10), dpi=80)\n",
    "plt.plot(transactions.groupby(['transaction_date'])['msno'].count())\n",
    "plt.show()"
   ]
  },
  {
   "cell_type": "markdown",
   "id": "63341327",
   "metadata": {},
   "source": [
    "Let's group transactions to months to be able to see the trend."
   ]
  },
  {
   "cell_type": "code",
   "execution_count": 34,
   "id": "dce4b415",
   "metadata": {},
   "outputs": [
    {
     "data": {
      "image/png": "[encoded data removed]",
      "text/plain": [
       "<Figure size 1120x800 with 1 Axes>"
      ]
     },
     "metadata": {},
     "output_type": "display_data"
    }
   ],
   "source": [
    "plt.figure(figsize=(14, 10), dpi=80)\n",
    "plt.plot(transactions\n",
    "         .assign(transaction_month=lambda x: x['transaction_date'].dt.strftime('%Y-%m-01').astype(np.datetime64))\n",
    "         .groupby(['transaction_month'])['msno']\n",
    "         .count()\n",
    "        )\n",
    "plt.show()"
   ]
  },
  {
   "cell_type": "code",
   "execution_count": 35,
   "id": "1dca3cc0",
   "metadata": {},
   "outputs": [
    {
     "data": {
      "image/png": "[encoded data removed]",
      "text/plain": [
       "<Figure size 1120x800 with 1 Axes>"
      ]
     },
     "metadata": {},
     "output_type": "display_data"
    }
   ],
   "source": [
    "plt.figure(figsize=(14, 10), dpi=80)\n",
    "plt.plot(transactions.groupby(['membership_expire_date'])['msno'].count())\n",
    "plt.show()"
   ]
  },
  {
   "cell_type": "code",
   "execution_count": 36,
   "id": "4e300bdc",
   "metadata": {},
   "outputs": [
    {
     "data": {
      "text/plain": [
       "is_cancel\n",
       "0    0.96\n",
       "1    0.04\n",
       "Name: msno, dtype: float64"
      ]
     },
     "execution_count": 36,
     "metadata": {},
     "output_type": "execute_result"
    }
   ],
   "source": [
    "(transactions.groupby(['is_cancel'])['msno'].count() / transactions.shape[0]).sort_values(ascending=False).round(2)"
   ]
  },
  {
   "cell_type": "markdown",
   "id": "eefa4914",
   "metadata": {},
   "source": [
    "Now let's combine all 3 tables in one, to have all needed data in one dataframe."
   ]
  },
  {
   "cell_type": "code",
   "execution_count": 37,
   "id": "3959cb8b",
   "metadata": {},
   "outputs": [],
   "source": [
    "transactions = transactions.merge(train, how='left', on='msno')"
   ]
  },
  {
   "cell_type": "code",
   "execution_count": 38,
   "id": "f4f245cd",
   "metadata": {},
   "outputs": [
    {
     "data": {
      "text/plain": [
       "5664598"
      ]
     },
     "execution_count": 38,
     "metadata": {},
     "output_type": "execute_result"
    }
   ],
   "source": [
    "transactions['is_churn'].isnull().sum()"
   ]
  },
  {
   "cell_type": "code",
   "execution_count": 39,
   "id": "c9472d63",
   "metadata": {},
   "outputs": [
    {
     "data": {
      "text/html": [
       "<div>\n",
       "<style scoped>\n",
       "    .dataframe tbody tr th:only-of-type {\n",
       "        vertical-align: middle;\n",
       "    }\n",
       "\n",
       "    .dataframe tbody tr th {\n",
       "        vertical-align: top;\n",
       "    }\n",
       "\n",
       "    .dataframe thead th {\n",
       "        text-align: right;\n",
       "    }\n",
       "</style>\n",
       "<table border=\"1\" class=\"dataframe\">\n",
       "  <thead>\n",
       "    <tr style=\"text-align: right;\">\n",
       "      <th></th>\n",
       "      <th>msno</th>\n",
       "      <th>payment_method_id</th>\n",
       "      <th>payment_plan_days</th>\n",
       "      <th>plan_list_price</th>\n",
       "      <th>actual_amount_paid</th>\n",
       "      <th>is_auto_renew</th>\n",
       "      <th>transaction_date</th>\n",
       "      <th>membership_expire_date</th>\n",
       "      <th>is_cancel</th>\n",
       "      <th>is_churn</th>\n",
       "    </tr>\n",
       "  </thead>\n",
       "  <tbody>\n",
       "    <tr>\n",
       "      <th>0</th>\n",
       "      <td>YyO+tlZtAXYXoZhNr3Vg3+dfVQvrBVGO8j1mfqe4ZHc=</td>\n",
       "      <td>41</td>\n",
       "      <td>30</td>\n",
       "      <td>129</td>\n",
       "      <td>129</td>\n",
       "      <td>1</td>\n",
       "      <td>2015-09-30</td>\n",
       "      <td>2015-11-01</td>\n",
       "      <td>0</td>\n",
       "      <td>0.0</td>\n",
       "    </tr>\n",
       "    <tr>\n",
       "      <th>1</th>\n",
       "      <td>AZtu6Wl0gPojrEQYB8Q3vBSmE2wnZ3hi1FbK1rQQ0A4=</td>\n",
       "      <td>41</td>\n",
       "      <td>30</td>\n",
       "      <td>149</td>\n",
       "      <td>149</td>\n",
       "      <td>1</td>\n",
       "      <td>2015-09-30</td>\n",
       "      <td>2015-10-31</td>\n",
       "      <td>0</td>\n",
       "      <td>0.0</td>\n",
       "    </tr>\n",
       "    <tr>\n",
       "      <th>2</th>\n",
       "      <td>UkDFI97Qb6+s2LWcijVVv4rMAsORbVDT2wNXF0aVbns=</td>\n",
       "      <td>41</td>\n",
       "      <td>30</td>\n",
       "      <td>129</td>\n",
       "      <td>129</td>\n",
       "      <td>1</td>\n",
       "      <td>2015-09-30</td>\n",
       "      <td>2016-04-27</td>\n",
       "      <td>0</td>\n",
       "      <td>NaN</td>\n",
       "    </tr>\n",
       "    <tr>\n",
       "      <th>3</th>\n",
       "      <td>M1C56ijxozNaGD0t2h68PnH2xtx5iO5iR2MVYQB6nBI=</td>\n",
       "      <td>39</td>\n",
       "      <td>30</td>\n",
       "      <td>149</td>\n",
       "      <td>149</td>\n",
       "      <td>1</td>\n",
       "      <td>2015-09-30</td>\n",
       "      <td>2015-11-28</td>\n",
       "      <td>0</td>\n",
       "      <td>NaN</td>\n",
       "    </tr>\n",
       "    <tr>\n",
       "      <th>4</th>\n",
       "      <td>yvj6zyBUaqdbUQSrKsrZ+xNDVM62knauSZJzakS9OW4=</td>\n",
       "      <td>39</td>\n",
       "      <td>30</td>\n",
       "      <td>149</td>\n",
       "      <td>149</td>\n",
       "      <td>1</td>\n",
       "      <td>2015-09-30</td>\n",
       "      <td>2015-11-21</td>\n",
       "      <td>0</td>\n",
       "      <td>0.0</td>\n",
       "    </tr>\n",
       "  </tbody>\n",
       "</table>\n",
       "</div>"
      ],
      "text/plain": [
       "                                           msno  payment_method_id  payment_plan_days  plan_list_price  actual_amount_paid  is_auto_renew transaction_date membership_expire_date  is_cancel  is_churn\n",
       "0  YyO+tlZtAXYXoZhNr3Vg3+dfVQvrBVGO8j1mfqe4ZHc=                 41                 30              129                 129              1       2015-09-30             2015-11-01          0       0.0\n",
       "1  AZtu6Wl0gPojrEQYB8Q3vBSmE2wnZ3hi1FbK1rQQ0A4=                 41                 30              149                 149              1       2015-09-30             2015-10-31          0       0.0\n",
       "2  UkDFI97Qb6+s2LWcijVVv4rMAsORbVDT2wNXF0aVbns=                 41                 30              129                 129              1       2015-09-30             2016-04-27          0       NaN\n",
       "3  M1C56ijxozNaGD0t2h68PnH2xtx5iO5iR2MVYQB6nBI=                 39                 30              149                 149              1       2015-09-30             2015-11-28          0       NaN\n",
       "4  yvj6zyBUaqdbUQSrKsrZ+xNDVM62knauSZJzakS9OW4=                 39                 30              149                 149              1       2015-09-30             2015-11-21          0       0.0"
      ]
     },
     "execution_count": 39,
     "metadata": {},
     "output_type": "execute_result"
    }
   ],
   "source": [
    "transactions.head()"
   ]
  },
  {
   "cell_type": "code",
   "execution_count": 40,
   "id": "0812b50b",
   "metadata": {},
   "outputs": [
    {
     "data": {
      "text/plain": [
       "(21547746, 10)"
      ]
     },
     "execution_count": 40,
     "metadata": {},
     "output_type": "execute_result"
    }
   ],
   "source": [
    "transactions.shape"
   ]
  },
  {
   "cell_type": "markdown",
   "id": "18220f78",
   "metadata": {},
   "source": [
    "Let's remove customers, in case we didn't find churn data for them."
   ]
  },
  {
   "cell_type": "code",
   "execution_count": 41,
   "id": "e901222a",
   "metadata": {},
   "outputs": [
    {
     "data": {
      "text/plain": [
       "(15883148, 10)"
      ]
     },
     "execution_count": 41,
     "metadata": {},
     "output_type": "execute_result"
    }
   ],
   "source": [
    "transactions = transactions.loc[transactions['is_churn'].isnull() == False,:]\n",
    "\n",
    "transactions.shape"
   ]
  },
  {
   "cell_type": "code",
   "execution_count": 42,
   "id": "fab9e195",
   "metadata": {},
   "outputs": [
    {
     "data": {
      "text/html": [
       "<div>\n",
       "<style scoped>\n",
       "    .dataframe tbody tr th:only-of-type {\n",
       "        vertical-align: middle;\n",
       "    }\n",
       "\n",
       "    .dataframe tbody tr th {\n",
       "        vertical-align: top;\n",
       "    }\n",
       "\n",
       "    .dataframe thead th {\n",
       "        text-align: right;\n",
       "    }\n",
       "</style>\n",
       "<table border=\"1\" class=\"dataframe\">\n",
       "  <thead>\n",
       "    <tr style=\"text-align: right;\">\n",
       "      <th></th>\n",
       "      <th>msno</th>\n",
       "      <th>payment_method_id</th>\n",
       "      <th>payment_plan_days</th>\n",
       "      <th>plan_list_price</th>\n",
       "      <th>actual_amount_paid</th>\n",
       "      <th>is_auto_renew</th>\n",
       "      <th>transaction_date</th>\n",
       "      <th>membership_expire_date</th>\n",
       "      <th>is_cancel</th>\n",
       "      <th>is_churn</th>\n",
       "    </tr>\n",
       "  </thead>\n",
       "  <tbody>\n",
       "    <tr>\n",
       "      <th>0</th>\n",
       "      <td>YyO+tlZtAXYXoZhNr3Vg3+dfVQvrBVGO8j1mfqe4ZHc=</td>\n",
       "      <td>41</td>\n",
       "      <td>30</td>\n",
       "      <td>129</td>\n",
       "      <td>129</td>\n",
       "      <td>1</td>\n",
       "      <td>2015-09-30</td>\n",
       "      <td>2015-11-01</td>\n",
       "      <td>0</td>\n",
       "      <td>0.0</td>\n",
       "    </tr>\n",
       "    <tr>\n",
       "      <th>1</th>\n",
       "      <td>AZtu6Wl0gPojrEQYB8Q3vBSmE2wnZ3hi1FbK1rQQ0A4=</td>\n",
       "      <td>41</td>\n",
       "      <td>30</td>\n",
       "      <td>149</td>\n",
       "      <td>149</td>\n",
       "      <td>1</td>\n",
       "      <td>2015-09-30</td>\n",
       "      <td>2015-10-31</td>\n",
       "      <td>0</td>\n",
       "      <td>0.0</td>\n",
       "    </tr>\n",
       "    <tr>\n",
       "      <th>4</th>\n",
       "      <td>yvj6zyBUaqdbUQSrKsrZ+xNDVM62knauSZJzakS9OW4=</td>\n",
       "      <td>39</td>\n",
       "      <td>30</td>\n",
       "      <td>149</td>\n",
       "      <td>149</td>\n",
       "      <td>1</td>\n",
       "      <td>2015-09-30</td>\n",
       "      <td>2015-11-21</td>\n",
       "      <td>0</td>\n",
       "      <td>0.0</td>\n",
       "    </tr>\n",
       "    <tr>\n",
       "      <th>5</th>\n",
       "      <td>KN7I82kjY0Tn76Ny95ncqBUVbO7b8AXrOPqZutKpxIM=</td>\n",
       "      <td>21</td>\n",
       "      <td>30</td>\n",
       "      <td>149</td>\n",
       "      <td>149</td>\n",
       "      <td>1</td>\n",
       "      <td>2015-09-30</td>\n",
       "      <td>2015-11-07</td>\n",
       "      <td>0</td>\n",
       "      <td>0.0</td>\n",
       "    </tr>\n",
       "    <tr>\n",
       "      <th>6</th>\n",
       "      <td>m5ptKif9BjdUghHXXomSezy5ohJiHm85PE13f/3kQaw=</td>\n",
       "      <td>39</td>\n",
       "      <td>30</td>\n",
       "      <td>149</td>\n",
       "      <td>149</td>\n",
       "      <td>1</td>\n",
       "      <td>2015-09-30</td>\n",
       "      <td>2015-11-28</td>\n",
       "      <td>0</td>\n",
       "      <td>0.0</td>\n",
       "    </tr>\n",
       "  </tbody>\n",
       "</table>\n",
       "</div>"
      ],
      "text/plain": [
       "                                           msno  payment_method_id  payment_plan_days  plan_list_price  actual_amount_paid  is_auto_renew transaction_date membership_expire_date  is_cancel  is_churn\n",
       "0  YyO+tlZtAXYXoZhNr3Vg3+dfVQvrBVGO8j1mfqe4ZHc=                 41                 30              129                 129              1       2015-09-30             2015-11-01          0       0.0\n",
       "1  AZtu6Wl0gPojrEQYB8Q3vBSmE2wnZ3hi1FbK1rQQ0A4=                 41                 30              149                 149              1       2015-09-30             2015-10-31          0       0.0\n",
       "4  yvj6zyBUaqdbUQSrKsrZ+xNDVM62knauSZJzakS9OW4=                 39                 30              149                 149              1       2015-09-30             2015-11-21          0       0.0\n",
       "5  KN7I82kjY0Tn76Ny95ncqBUVbO7b8AXrOPqZutKpxIM=                 21                 30              149                 149              1       2015-09-30             2015-11-07          0       0.0\n",
       "6  m5ptKif9BjdUghHXXomSezy5ohJiHm85PE13f/3kQaw=                 39                 30              149                 149              1       2015-09-30             2015-11-28          0       0.0"
      ]
     },
     "execution_count": 42,
     "metadata": {},
     "output_type": "execute_result"
    }
   ],
   "source": [
    "transactions.head()"
   ]
  },
  {
   "cell_type": "code",
   "execution_count": 43,
   "id": "88e8ed29",
   "metadata": {},
   "outputs": [],
   "source": [
    "transactions = transactions.merge(members, how='left', on='msno')"
   ]
  },
  {
   "cell_type": "code",
   "execution_count": 44,
   "id": "2f726838",
   "metadata": {},
   "outputs": [
    {
     "data": {
      "text/plain": [
       "1600752"
      ]
     },
     "execution_count": 44,
     "metadata": {},
     "output_type": "execute_result"
    }
   ],
   "source": [
    "transactions['registration_init_time'].isnull().sum()"
   ]
  },
  {
   "cell_type": "markdown",
   "id": "6f84f37b",
   "metadata": {},
   "source": [
    "Similar to churn data, let's remove transaction without information in members table."
   ]
  },
  {
   "cell_type": "code",
   "execution_count": 45,
   "id": "795d1065",
   "metadata": {},
   "outputs": [
    {
     "data": {
      "text/plain": [
       "(14282396, 15)"
      ]
     },
     "execution_count": 45,
     "metadata": {},
     "output_type": "execute_result"
    }
   ],
   "source": [
    "transactions = transactions.loc[transactions['registration_init_time'].isnull() == False,:]\n",
    "\n",
    "transactions.shape"
   ]
  },
  {
   "cell_type": "markdown",
   "id": "27eac5bd",
   "metadata": {},
   "source": [
    "Add some attributes to the dataset."
   ]
  },
  {
   "cell_type": "code",
   "execution_count": 46,
   "id": "e0525583",
   "metadata": {},
   "outputs": [],
   "source": [
    "transactions['registration_init_month'] = \\\n",
    "    transactions['registration_init_time'].dt.strftime('%Y-%m-01').astype(np.datetime64)\n",
    "\n",
    "transactions['transaction_month'] = \\\n",
    "    transactions['transaction_date'].dt.strftime('%Y-%m-01').astype(np.datetime64)\n",
    "\n",
    "transactions['next_transaction_date'] = \\\n",
    "    (transactions.sort_values(by=['msno','transaction_date'], ascending=True)\n",
    "                 .groupby(['msno'])['transaction_date']\n",
    "                 .shift(-1)\n",
    "    )\n",
    "\n",
    "\n",
    "transactions['days_between_transactions'] = \\\n",
    "    (transactions['next_transaction_date'] - transactions['transaction_date']).dt.days"
   ]
  },
  {
   "cell_type": "markdown",
   "id": "40f2fb02",
   "metadata": {},
   "source": [
    "For some reason sometimes we have several transactions for a user per day."
   ]
  },
  {
   "cell_type": "code",
   "execution_count": 47,
   "id": "eb12e46b",
   "metadata": {},
   "outputs": [
    {
     "data": {
      "text/plain": [
       "(14098937, 19)"
      ]
     },
     "execution_count": 47,
     "metadata": {},
     "output_type": "execute_result"
    }
   ],
   "source": [
    "transactions = transactions.loc[transactions['days_between_transactions'] != 0, :]\n",
    "\n",
    "transactions.shape"
   ]
  },
  {
   "cell_type": "code",
   "execution_count": 49,
   "id": "b47eb398",
   "metadata": {},
   "outputs": [
    {
     "data": {
      "image/png": "[encoded data removed]",
      "text/plain": [
       "<Figure size 800x640 with 1 Axes>"
      ]
     },
     "metadata": {},
     "output_type": "display_data"
    }
   ],
   "source": [
    "plt.figure(figsize=(10, 8), dpi=80)\n",
    "    \n",
    "share = [] \n",
    "for idx in range(1, 60):\n",
    "    \n",
    "    cohort_size = transactions.loc[transactions['transaction_date'] == '2016-12-31','msno'].shape[0]\n",
    "    cohort_size_correction = transactions.loc[(transactions['transaction_date'] == '2016-12-31') & \n",
    "                                              (transactions['days_between_transactions'] < idx),'msno'].shape[0]\n",
    "    churned_on_this_transaction = transactions.loc[(transactions['transaction_date'] == '2016-12-31') & \n",
    "                                                   (transactions['days_between_transactions'].isnull()),'msno'].shape[0]\n",
    "    share.append(round(churned_on_this_transaction / (cohort_size - cohort_size_correction), 4))\n",
    "\n",
    "plt.plot(share, linewidth=4, color='green')    \n",
    "\n",
    "plt.title('Churn probability depending on days from the last transaction')\n",
    "plt.xlabel('Period in days')\n",
    "plt.ylabel('Churn probability')\n",
    "plt.show()"
   ]
  },
  {
   "cell_type": "code",
   "execution_count": 50,
   "id": "b8355511",
   "metadata": {},
   "outputs": [
    {
     "name": "stderr",
     "output_type": "stream",
     "text": [
      "C:\\Users\\Harry Patria\\anaconda3\\lib\\site-packages\\IPython\\core\\pylabtools.py:132: UserWarning: Creating legend with loc=\"best\" can be slow with large amounts of data.\n",
      "  fig.canvas.print_figure(bytes_io, **kw)\n"
     ]
    },
    {
     "ename": "ValueError",
     "evalue": "Image size of 678x101909 pixels is too large. It must be less than 2^16 in each direction.",
     "output_type": "error",
     "traceback": [
      "\u001b[1;31m---------------------------------------------------------------------------\u001b[0m",
      "\u001b[1;31mValueError\u001b[0m                                Traceback (most recent call last)",
      "\u001b[1;32m~\\anaconda3\\lib\\site-packages\\IPython\\core\\formatters.py\u001b[0m in \u001b[0;36m__call__\u001b[1;34m(self, obj)\u001b[0m\n\u001b[0;32m    339\u001b[0m                 \u001b[1;32mpass\u001b[0m\u001b[1;33m\u001b[0m\u001b[1;33m\u001b[0m\u001b[0m\n\u001b[0;32m    340\u001b[0m             \u001b[1;32melse\u001b[0m\u001b[1;33m:\u001b[0m\u001b[1;33m\u001b[0m\u001b[1;33m\u001b[0m\u001b[0m\n\u001b[1;32m--> 341\u001b[1;33m                 \u001b[1;32mreturn\u001b[0m \u001b[0mprinter\u001b[0m\u001b[1;33m(\u001b[0m\u001b[0mobj\u001b[0m\u001b[1;33m)\u001b[0m\u001b[1;33m\u001b[0m\u001b[1;33m\u001b[0m\u001b[0m\n\u001b[0m\u001b[0;32m    342\u001b[0m             \u001b[1;31m# Finally look for special method names\u001b[0m\u001b[1;33m\u001b[0m\u001b[1;33m\u001b[0m\u001b[1;33m\u001b[0m\u001b[0m\n\u001b[0;32m    343\u001b[0m             \u001b[0mmethod\u001b[0m \u001b[1;33m=\u001b[0m \u001b[0mget_real_method\u001b[0m\u001b[1;33m(\u001b[0m\u001b[0mobj\u001b[0m\u001b[1;33m,\u001b[0m \u001b[0mself\u001b[0m\u001b[1;33m.\u001b[0m\u001b[0mprint_method\u001b[0m\u001b[1;33m)\u001b[0m\u001b[1;33m\u001b[0m\u001b[1;33m\u001b[0m\u001b[0m\n",
      "\u001b[1;32m~\\anaconda3\\lib\\site-packages\\IPython\\core\\pylabtools.py\u001b[0m in \u001b[0;36m<lambda>\u001b[1;34m(fig)\u001b[0m\n\u001b[0;32m    246\u001b[0m \u001b[1;33m\u001b[0m\u001b[0m\n\u001b[0;32m    247\u001b[0m     \u001b[1;32mif\u001b[0m \u001b[1;34m'png'\u001b[0m \u001b[1;32min\u001b[0m \u001b[0mformats\u001b[0m\u001b[1;33m:\u001b[0m\u001b[1;33m\u001b[0m\u001b[1;33m\u001b[0m\u001b[0m\n\u001b[1;32m--> 248\u001b[1;33m         \u001b[0mpng_formatter\u001b[0m\u001b[1;33m.\u001b[0m\u001b[0mfor_type\u001b[0m\u001b[1;33m(\u001b[0m\u001b[0mFigure\u001b[0m\u001b[1;33m,\u001b[0m \u001b[1;32mlambda\u001b[0m \u001b[0mfig\u001b[0m\u001b[1;33m:\u001b[0m \u001b[0mprint_figure\u001b[0m\u001b[1;33m(\u001b[0m\u001b[0mfig\u001b[0m\u001b[1;33m,\u001b[0m \u001b[1;34m'png'\u001b[0m\u001b[1;33m,\u001b[0m \u001b[1;33m**\u001b[0m\u001b[0mkwargs\u001b[0m\u001b[1;33m)\u001b[0m\u001b[1;33m)\u001b[0m\u001b[1;33m\u001b[0m\u001b[1;33m\u001b[0m\u001b[0m\n\u001b[0m\u001b[0;32m    249\u001b[0m     \u001b[1;32mif\u001b[0m \u001b[1;34m'retina'\u001b[0m \u001b[1;32min\u001b[0m \u001b[0mformats\u001b[0m \u001b[1;32mor\u001b[0m \u001b[1;34m'png2x'\u001b[0m \u001b[1;32min\u001b[0m \u001b[0mformats\u001b[0m\u001b[1;33m:\u001b[0m\u001b[1;33m\u001b[0m\u001b[1;33m\u001b[0m\u001b[0m\n\u001b[0;32m    250\u001b[0m         \u001b[0mpng_formatter\u001b[0m\u001b[1;33m.\u001b[0m\u001b[0mfor_type\u001b[0m\u001b[1;33m(\u001b[0m\u001b[0mFigure\u001b[0m\u001b[1;33m,\u001b[0m \u001b[1;32mlambda\u001b[0m \u001b[0mfig\u001b[0m\u001b[1;33m:\u001b[0m \u001b[0mretina_figure\u001b[0m\u001b[1;33m(\u001b[0m\u001b[0mfig\u001b[0m\u001b[1;33m,\u001b[0m \u001b[1;33m**\u001b[0m\u001b[0mkwargs\u001b[0m\u001b[1;33m)\u001b[0m\u001b[1;33m)\u001b[0m\u001b[1;33m\u001b[0m\u001b[1;33m\u001b[0m\u001b[0m\n",
      "\u001b[1;32m~\\anaconda3\\lib\\site-packages\\IPython\\core\\pylabtools.py\u001b[0m in \u001b[0;36mprint_figure\u001b[1;34m(fig, fmt, bbox_inches, **kwargs)\u001b[0m\n\u001b[0;32m    130\u001b[0m         \u001b[0mFigureCanvasBase\u001b[0m\u001b[1;33m(\u001b[0m\u001b[0mfig\u001b[0m\u001b[1;33m)\u001b[0m\u001b[1;33m\u001b[0m\u001b[1;33m\u001b[0m\u001b[0m\n\u001b[0;32m    131\u001b[0m \u001b[1;33m\u001b[0m\u001b[0m\n\u001b[1;32m--> 132\u001b[1;33m     \u001b[0mfig\u001b[0m\u001b[1;33m.\u001b[0m\u001b[0mcanvas\u001b[0m\u001b[1;33m.\u001b[0m\u001b[0mprint_figure\u001b[0m\u001b[1;33m(\u001b[0m\u001b[0mbytes_io\u001b[0m\u001b[1;33m,\u001b[0m \u001b[1;33m**\u001b[0m\u001b[0mkw\u001b[0m\u001b[1;33m)\u001b[0m\u001b[1;33m\u001b[0m\u001b[1;33m\u001b[0m\u001b[0m\n\u001b[0m\u001b[0;32m    133\u001b[0m     \u001b[0mdata\u001b[0m \u001b[1;33m=\u001b[0m \u001b[0mbytes_io\u001b[0m\u001b[1;33m.\u001b[0m\u001b[0mgetvalue\u001b[0m\u001b[1;33m(\u001b[0m\u001b[1;33m)\u001b[0m\u001b[1;33m\u001b[0m\u001b[1;33m\u001b[0m\u001b[0m\n\u001b[0;32m    134\u001b[0m     \u001b[1;32mif\u001b[0m \u001b[0mfmt\u001b[0m \u001b[1;33m==\u001b[0m \u001b[1;34m'svg'\u001b[0m\u001b[1;33m:\u001b[0m\u001b[1;33m\u001b[0m\u001b[1;33m\u001b[0m\u001b[0m\n",
      "\u001b[1;32m~\\anaconda3\\lib\\site-packages\\matplotlib\\backend_bases.py\u001b[0m in \u001b[0;36mprint_figure\u001b[1;34m(self, filename, dpi, facecolor, edgecolor, orientation, format, bbox_inches, pad_inches, bbox_extra_artists, backend, **kwargs)\u001b[0m\n\u001b[0;32m   2317\u001b[0m                 \u001b[1;31m# force the figure dpi to 72), so we need to set it again here.\u001b[0m\u001b[1;33m\u001b[0m\u001b[1;33m\u001b[0m\u001b[1;33m\u001b[0m\u001b[0m\n\u001b[0;32m   2318\u001b[0m                 \u001b[1;32mwith\u001b[0m \u001b[0mcbook\u001b[0m\u001b[1;33m.\u001b[0m\u001b[0m_setattr_cm\u001b[0m\u001b[1;33m(\u001b[0m\u001b[0mself\u001b[0m\u001b[1;33m.\u001b[0m\u001b[0mfigure\u001b[0m\u001b[1;33m,\u001b[0m \u001b[0mdpi\u001b[0m\u001b[1;33m=\u001b[0m\u001b[0mdpi\u001b[0m\u001b[1;33m)\u001b[0m\u001b[1;33m:\u001b[0m\u001b[1;33m\u001b[0m\u001b[1;33m\u001b[0m\u001b[0m\n\u001b[1;32m-> 2319\u001b[1;33m                     result = print_method(\n\u001b[0m\u001b[0;32m   2320\u001b[0m                         \u001b[0mfilename\u001b[0m\u001b[1;33m,\u001b[0m\u001b[1;33m\u001b[0m\u001b[1;33m\u001b[0m\u001b[0m\n\u001b[0;32m   2321\u001b[0m                         \u001b[0mfacecolor\u001b[0m\u001b[1;33m=\u001b[0m\u001b[0mfacecolor\u001b[0m\u001b[1;33m,\u001b[0m\u001b[1;33m\u001b[0m\u001b[1;33m\u001b[0m\u001b[0m\n",
      "\u001b[1;32m~\\anaconda3\\lib\\site-packages\\matplotlib\\backend_bases.py\u001b[0m in \u001b[0;36mwrapper\u001b[1;34m(*args, **kwargs)\u001b[0m\n\u001b[0;32m   1646\u001b[0m             \u001b[0mkwargs\u001b[0m\u001b[1;33m.\u001b[0m\u001b[0mpop\u001b[0m\u001b[1;33m(\u001b[0m\u001b[0marg\u001b[0m\u001b[1;33m)\u001b[0m\u001b[1;33m\u001b[0m\u001b[1;33m\u001b[0m\u001b[0m\n\u001b[0;32m   1647\u001b[0m \u001b[1;33m\u001b[0m\u001b[0m\n\u001b[1;32m-> 1648\u001b[1;33m         \u001b[1;32mreturn\u001b[0m \u001b[0mfunc\u001b[0m\u001b[1;33m(\u001b[0m\u001b[1;33m*\u001b[0m\u001b[0margs\u001b[0m\u001b[1;33m,\u001b[0m \u001b[1;33m**\u001b[0m\u001b[0mkwargs\u001b[0m\u001b[1;33m)\u001b[0m\u001b[1;33m\u001b[0m\u001b[1;33m\u001b[0m\u001b[0m\n\u001b[0m\u001b[0;32m   1649\u001b[0m \u001b[1;33m\u001b[0m\u001b[0m\n\u001b[0;32m   1650\u001b[0m     \u001b[1;32mreturn\u001b[0m \u001b[0mwrapper\u001b[0m\u001b[1;33m\u001b[0m\u001b[1;33m\u001b[0m\u001b[0m\n",
      "\u001b[1;32m~\\anaconda3\\lib\\site-packages\\matplotlib\\_api\\deprecation.py\u001b[0m in \u001b[0;36mwrapper\u001b[1;34m(*inner_args, **inner_kwargs)\u001b[0m\n\u001b[0;32m    410\u001b[0m                          \u001b[1;32melse\u001b[0m \u001b[0mdeprecation_addendum\u001b[0m\u001b[1;33m,\u001b[0m\u001b[1;33m\u001b[0m\u001b[1;33m\u001b[0m\u001b[0m\n\u001b[0;32m    411\u001b[0m                 **kwargs)\n\u001b[1;32m--> 412\u001b[1;33m         \u001b[1;32mreturn\u001b[0m \u001b[0mfunc\u001b[0m\u001b[1;33m(\u001b[0m\u001b[1;33m*\u001b[0m\u001b[0minner_args\u001b[0m\u001b[1;33m,\u001b[0m \u001b[1;33m**\u001b[0m\u001b[0minner_kwargs\u001b[0m\u001b[1;33m)\u001b[0m\u001b[1;33m\u001b[0m\u001b[1;33m\u001b[0m\u001b[0m\n\u001b[0m\u001b[0;32m    413\u001b[0m \u001b[1;33m\u001b[0m\u001b[0m\n\u001b[0;32m    414\u001b[0m     \u001b[0mDECORATORS\u001b[0m\u001b[1;33m[\u001b[0m\u001b[0mwrapper\u001b[0m\u001b[1;33m]\u001b[0m \u001b[1;33m=\u001b[0m \u001b[0mdecorator\u001b[0m\u001b[1;33m\u001b[0m\u001b[1;33m\u001b[0m\u001b[0m\n",
      "\u001b[1;32m~\\anaconda3\\lib\\site-packages\\matplotlib\\backends\\backend_agg.py\u001b[0m in \u001b[0;36mprint_png\u001b[1;34m(self, filename_or_obj, metadata, pil_kwargs, *args)\u001b[0m\n\u001b[0;32m    538\u001b[0m             \u001b[1;33m*\u001b[0m\u001b[0mmetadata\u001b[0m\u001b[1;33m*\u001b[0m\u001b[1;33m,\u001b[0m \u001b[0mincluding\u001b[0m \u001b[0mthe\u001b[0m \u001b[0mdefault\u001b[0m \u001b[1;34m'Software'\u001b[0m \u001b[0mkey\u001b[0m\u001b[1;33m.\u001b[0m\u001b[1;33m\u001b[0m\u001b[1;33m\u001b[0m\u001b[0m\n\u001b[0;32m    539\u001b[0m         \"\"\"\n\u001b[1;32m--> 540\u001b[1;33m         \u001b[0mFigureCanvasAgg\u001b[0m\u001b[1;33m.\u001b[0m\u001b[0mdraw\u001b[0m\u001b[1;33m(\u001b[0m\u001b[0mself\u001b[0m\u001b[1;33m)\u001b[0m\u001b[1;33m\u001b[0m\u001b[1;33m\u001b[0m\u001b[0m\n\u001b[0m\u001b[0;32m    541\u001b[0m         mpl.image.imsave(\n\u001b[0;32m    542\u001b[0m             \u001b[0mfilename_or_obj\u001b[0m\u001b[1;33m,\u001b[0m \u001b[0mself\u001b[0m\u001b[1;33m.\u001b[0m\u001b[0mbuffer_rgba\u001b[0m\u001b[1;33m(\u001b[0m\u001b[1;33m)\u001b[0m\u001b[1;33m,\u001b[0m \u001b[0mformat\u001b[0m\u001b[1;33m=\u001b[0m\u001b[1;34m\"png\"\u001b[0m\u001b[1;33m,\u001b[0m \u001b[0morigin\u001b[0m\u001b[1;33m=\u001b[0m\u001b[1;34m\"upper\"\u001b[0m\u001b[1;33m,\u001b[0m\u001b[1;33m\u001b[0m\u001b[1;33m\u001b[0m\u001b[0m\n",
      "\u001b[1;32m~\\anaconda3\\lib\\site-packages\\matplotlib\\backends\\backend_agg.py\u001b[0m in \u001b[0;36mdraw\u001b[1;34m(self)\u001b[0m\n\u001b[0;32m    429\u001b[0m     \u001b[1;32mdef\u001b[0m \u001b[0mdraw\u001b[0m\u001b[1;33m(\u001b[0m\u001b[0mself\u001b[0m\u001b[1;33m)\u001b[0m\u001b[1;33m:\u001b[0m\u001b[1;33m\u001b[0m\u001b[1;33m\u001b[0m\u001b[0m\n\u001b[0;32m    430\u001b[0m         \u001b[1;31m# docstring inherited\u001b[0m\u001b[1;33m\u001b[0m\u001b[1;33m\u001b[0m\u001b[1;33m\u001b[0m\u001b[0m\n\u001b[1;32m--> 431\u001b[1;33m         \u001b[0mself\u001b[0m\u001b[1;33m.\u001b[0m\u001b[0mrenderer\u001b[0m \u001b[1;33m=\u001b[0m \u001b[0mself\u001b[0m\u001b[1;33m.\u001b[0m\u001b[0mget_renderer\u001b[0m\u001b[1;33m(\u001b[0m\u001b[0mcleared\u001b[0m\u001b[1;33m=\u001b[0m\u001b[1;32mTrue\u001b[0m\u001b[1;33m)\u001b[0m\u001b[1;33m\u001b[0m\u001b[1;33m\u001b[0m\u001b[0m\n\u001b[0m\u001b[0;32m    432\u001b[0m         \u001b[1;31m# Acquire a lock on the shared font cache.\u001b[0m\u001b[1;33m\u001b[0m\u001b[1;33m\u001b[0m\u001b[1;33m\u001b[0m\u001b[0m\n\u001b[0;32m    433\u001b[0m         \u001b[1;32mwith\u001b[0m \u001b[0mRendererAgg\u001b[0m\u001b[1;33m.\u001b[0m\u001b[0mlock\u001b[0m\u001b[1;33m,\u001b[0m\u001b[0;31m \u001b[0m\u001b[0;31m\\\u001b[0m\u001b[1;33m\u001b[0m\u001b[1;33m\u001b[0m\u001b[0m\n",
      "\u001b[1;32m~\\anaconda3\\lib\\site-packages\\matplotlib\\backends\\backend_agg.py\u001b[0m in \u001b[0;36mget_renderer\u001b[1;34m(self, cleared)\u001b[0m\n\u001b[0;32m    445\u001b[0m                           and getattr(self, \"_lastKey\", None) == key)\n\u001b[0;32m    446\u001b[0m         \u001b[1;32mif\u001b[0m \u001b[1;32mnot\u001b[0m \u001b[0mreuse_renderer\u001b[0m\u001b[1;33m:\u001b[0m\u001b[1;33m\u001b[0m\u001b[1;33m\u001b[0m\u001b[0m\n\u001b[1;32m--> 447\u001b[1;33m             \u001b[0mself\u001b[0m\u001b[1;33m.\u001b[0m\u001b[0mrenderer\u001b[0m \u001b[1;33m=\u001b[0m \u001b[0mRendererAgg\u001b[0m\u001b[1;33m(\u001b[0m\u001b[0mw\u001b[0m\u001b[1;33m,\u001b[0m \u001b[0mh\u001b[0m\u001b[1;33m,\u001b[0m \u001b[0mself\u001b[0m\u001b[1;33m.\u001b[0m\u001b[0mfigure\u001b[0m\u001b[1;33m.\u001b[0m\u001b[0mdpi\u001b[0m\u001b[1;33m)\u001b[0m\u001b[1;33m\u001b[0m\u001b[1;33m\u001b[0m\u001b[0m\n\u001b[0m\u001b[0;32m    448\u001b[0m             \u001b[0mself\u001b[0m\u001b[1;33m.\u001b[0m\u001b[0m_lastKey\u001b[0m \u001b[1;33m=\u001b[0m \u001b[0mkey\u001b[0m\u001b[1;33m\u001b[0m\u001b[1;33m\u001b[0m\u001b[0m\n\u001b[0;32m    449\u001b[0m         \u001b[1;32melif\u001b[0m \u001b[0mcleared\u001b[0m\u001b[1;33m:\u001b[0m\u001b[1;33m\u001b[0m\u001b[1;33m\u001b[0m\u001b[0m\n",
      "\u001b[1;32m~\\anaconda3\\lib\\site-packages\\matplotlib\\backends\\backend_agg.py\u001b[0m in \u001b[0;36m__init__\u001b[1;34m(self, width, height, dpi)\u001b[0m\n\u001b[0;32m     91\u001b[0m         \u001b[0mself\u001b[0m\u001b[1;33m.\u001b[0m\u001b[0mwidth\u001b[0m \u001b[1;33m=\u001b[0m \u001b[0mwidth\u001b[0m\u001b[1;33m\u001b[0m\u001b[1;33m\u001b[0m\u001b[0m\n\u001b[0;32m     92\u001b[0m         \u001b[0mself\u001b[0m\u001b[1;33m.\u001b[0m\u001b[0mheight\u001b[0m \u001b[1;33m=\u001b[0m \u001b[0mheight\u001b[0m\u001b[1;33m\u001b[0m\u001b[1;33m\u001b[0m\u001b[0m\n\u001b[1;32m---> 93\u001b[1;33m         \u001b[0mself\u001b[0m\u001b[1;33m.\u001b[0m\u001b[0m_renderer\u001b[0m \u001b[1;33m=\u001b[0m \u001b[0m_RendererAgg\u001b[0m\u001b[1;33m(\u001b[0m\u001b[0mint\u001b[0m\u001b[1;33m(\u001b[0m\u001b[0mwidth\u001b[0m\u001b[1;33m)\u001b[0m\u001b[1;33m,\u001b[0m \u001b[0mint\u001b[0m\u001b[1;33m(\u001b[0m\u001b[0mheight\u001b[0m\u001b[1;33m)\u001b[0m\u001b[1;33m,\u001b[0m \u001b[0mdpi\u001b[0m\u001b[1;33m)\u001b[0m\u001b[1;33m\u001b[0m\u001b[1;33m\u001b[0m\u001b[0m\n\u001b[0m\u001b[0;32m     94\u001b[0m         \u001b[0mself\u001b[0m\u001b[1;33m.\u001b[0m\u001b[0m_filter_renderers\u001b[0m \u001b[1;33m=\u001b[0m \u001b[1;33m[\u001b[0m\u001b[1;33m]\u001b[0m\u001b[1;33m\u001b[0m\u001b[1;33m\u001b[0m\u001b[0m\n\u001b[0;32m     95\u001b[0m \u001b[1;33m\u001b[0m\u001b[0m\n",
      "\u001b[1;31mValueError\u001b[0m: Image size of 678x101909 pixels is too large. It must be less than 2^16 in each direction."
     ]
    },
    {
     "data": {
      "text/plain": [
       "<Figure size 800x640 with 1 Axes>"
      ]
     },
     "metadata": {},
     "output_type": "display_data"
    }
   ],
   "source": [
    "# warning: it may take longer ..\n",
    "plt.figure(figsize=(10, 8), dpi=80)\n",
    "from matplotlib import rcParams, cycler\n",
    "\n",
    "start = datetime.datetime.strptime(\"2015-09-01\", \"%Y-%m-%d\")\n",
    "end = datetime.datetime.strptime(\"2017-02-01\", \"%Y-%m-%d\")\n",
    "dates_list = [start + datetime.timedelta(days=x) for x in range(0, (end-start).days, 10)]\n",
    "\n",
    "cmap = plt.cm.coolwarm\n",
    "rcParams['axes.prop_cycle'] = cycler(color=cmap(np.linspace(0, 1, len(dates_list))))\n",
    "\n",
    "for cohort_date in dates_list:\n",
    "    cohort_date = '2017-01-31'\n",
    "    share = [] \n",
    "    for idx in range(1, 120):\n",
    "        cohort_size = transactions.loc[transactions['transaction_date'] == cohort_date,'msno'].shape[0]\n",
    "        cohort_size_correction = transactions.loc[(transactions['transaction_date'] == cohort_date) & \n",
    "                                                  (transactions['days_between_transactions'] < idx),'msno'].shape[0]\n",
    "        churned_on_this_transaction = transactions.loc[(transactions['transaction_date'] == cohort_date) & \n",
    "                                                       (transactions['days_between_transactions'].isnull()),'msno'].shape[0]\n",
    "        share.append(round(churned_on_this_transaction / (cohort_size - cohort_size_correction), 4))\n",
    "        plt.plot(share, label='cohort_date')    \n",
    "\n",
    "plt.title('Churn probability depending on days from the last transaction')\n",
    "plt.xlabel('Period in days')\n",
    "plt.ylabel('Churn probability')\n",
    "plt.legend()\n",
    "plt.show()"
   ]
  },
  {
   "cell_type": "markdown",
   "id": "4472c0dd",
   "metadata": {},
   "source": [
    "# Pareto NBD\n",
    "Now, let's start actual churn modelling with our first type of model -- Pareto NBD.\n",
    "\n",
    "We will use a great library with implementation of such models called lifetimes."
   ]
  },
  {
   "cell_type": "markdown",
   "id": "276f6fad",
   "metadata": {},
   "source": [
    "To fit such statistical model we need only 3 features:\n",
    "  1. Number of orders.\n",
    "  2. Tenure (the difference between current date and first transaction date).\n",
    "  3. Recency (the difference between the last and the first transaction dates). That's a bit unusual, because commonly by recency we mean current date minus last transaction date, but let's keep to the library terminology."
   ]
  },
  {
   "cell_type": "code",
   "execution_count": 51,
   "id": "19260c93",
   "metadata": {},
   "outputs": [],
   "source": [
    "customers = \\\n",
    "    transactions.groupby(['msno'])['transaction_month'].agg(orders='count', \n",
    "                                                           first_transaction_month=min, \n",
    "                                                           last_transaction_month=max).reset_index()\n",
    "\n",
    "customers['orders'] = customers['orders'] - 1\n",
    "customers['tenure'] = (pd.to_datetime('2017-03-01') - customers['first_transaction_month']).dt.days // 30\n",
    "customers['recency'] = (customers['last_transaction_month'] - customers['first_transaction_month']).dt.days // 30\n",
    "\n",
    "\n",
    "customers = customers.merge(transactions.groupby(['msno'])['is_churn'].min().reset_index(), how='inner', on=['msno'])"
   ]
  },
  {
   "cell_type": "code",
   "execution_count": 52,
   "id": "d88e595e",
   "metadata": {},
   "outputs": [
    {
     "data": {
      "text/html": [
       "<div>\n",
       "<style scoped>\n",
       "    .dataframe tbody tr th:only-of-type {\n",
       "        vertical-align: middle;\n",
       "    }\n",
       "\n",
       "    .dataframe tbody tr th {\n",
       "        vertical-align: top;\n",
       "    }\n",
       "\n",
       "    .dataframe thead th {\n",
       "        text-align: right;\n",
       "    }\n",
       "</style>\n",
       "<table border=\"1\" class=\"dataframe\">\n",
       "  <thead>\n",
       "    <tr style=\"text-align: right;\">\n",
       "      <th></th>\n",
       "      <th>msno</th>\n",
       "      <th>orders</th>\n",
       "      <th>first_transaction_month</th>\n",
       "      <th>last_transaction_month</th>\n",
       "      <th>tenure</th>\n",
       "      <th>recency</th>\n",
       "      <th>is_churn</th>\n",
       "    </tr>\n",
       "  </thead>\n",
       "  <tbody>\n",
       "    <tr>\n",
       "      <th>0</th>\n",
       "      <td>+++hVY1rZox/33YtvDgmKA2Frg/2qhkz12B9ylCvh8o=</td>\n",
       "      <td>3</td>\n",
       "      <td>2016-11-01</td>\n",
       "      <td>2017-02-01</td>\n",
       "      <td>4</td>\n",
       "      <td>3</td>\n",
       "      <td>0.0</td>\n",
       "    </tr>\n",
       "    <tr>\n",
       "      <th>1</th>\n",
       "      <td>+++l/EXNMLTijfLBa8p2TUVVVp2aFGSuUI/h7mLmthw=</td>\n",
       "      <td>18</td>\n",
       "      <td>2015-01-01</td>\n",
       "      <td>2017-01-01</td>\n",
       "      <td>26</td>\n",
       "      <td>24</td>\n",
       "      <td>0.0</td>\n",
       "    </tr>\n",
       "    <tr>\n",
       "      <th>2</th>\n",
       "      <td>+++snpr7pmobhLKUgSHTv/mpkqgBT0tQJ0zQj6qKrqc=</td>\n",
       "      <td>25</td>\n",
       "      <td>2015-01-01</td>\n",
       "      <td>2017-02-01</td>\n",
       "      <td>26</td>\n",
       "      <td>25</td>\n",
       "      <td>0.0</td>\n",
       "    </tr>\n",
       "    <tr>\n",
       "      <th>3</th>\n",
       "      <td>++/9R3sX37CjxbY/AaGvbwr3QkwElKBCtSvVzhCBDOk=</td>\n",
       "      <td>11</td>\n",
       "      <td>2016-03-01</td>\n",
       "      <td>2017-02-01</td>\n",
       "      <td>12</td>\n",
       "      <td>11</td>\n",
       "      <td>0.0</td>\n",
       "    </tr>\n",
       "    <tr>\n",
       "      <th>4</th>\n",
       "      <td>++/UDNo9DLrxT8QVGiDi1OnWfczAdEwThaVyD0fXO50=</td>\n",
       "      <td>18</td>\n",
       "      <td>2015-01-01</td>\n",
       "      <td>2017-01-01</td>\n",
       "      <td>26</td>\n",
       "      <td>24</td>\n",
       "      <td>0.0</td>\n",
       "    </tr>\n",
       "  </tbody>\n",
       "</table>\n",
       "</div>"
      ],
      "text/plain": [
       "                                           msno  orders first_transaction_month last_transaction_month  tenure  recency  is_churn\n",
       "0  +++hVY1rZox/33YtvDgmKA2Frg/2qhkz12B9ylCvh8o=       3              2016-11-01             2017-02-01       4        3       0.0\n",
       "1  +++l/EXNMLTijfLBa8p2TUVVVp2aFGSuUI/h7mLmthw=      18              2015-01-01             2017-01-01      26       24       0.0\n",
       "2  +++snpr7pmobhLKUgSHTv/mpkqgBT0tQJ0zQj6qKrqc=      25              2015-01-01             2017-02-01      26       25       0.0\n",
       "3  ++/9R3sX37CjxbY/AaGvbwr3QkwElKBCtSvVzhCBDOk=      11              2016-03-01             2017-02-01      12       11       0.0\n",
       "4  ++/UDNo9DLrxT8QVGiDi1OnWfczAdEwThaVyD0fXO50=      18              2015-01-01             2017-01-01      26       24       0.0"
      ]
     },
     "execution_count": 52,
     "metadata": {},
     "output_type": "execute_result"
    }
   ],
   "source": [
    "customers.head()"
   ]
  },
  {
   "cell_type": "markdown",
   "id": "fea8e7fb",
   "metadata": {},
   "source": [
    "Firstly let's take a look on a capacity of statistical models to provide exploratory insights."
   ]
  },
  {
   "cell_type": "code",
   "execution_count": 55,
   "id": "3ac28889",
   "metadata": {},
   "outputs": [
    {
     "name": "stdout",
     "output_type": "stream",
     "text": [
      "<lifetimes.BetaGeoFitter: fitted with 877161 subjects, a: 0.00, alpha: 1.08, b: 0.03, r: 0.90>\n"
     ]
    },
    {
     "data": {
      "text/html": [
       "<div>\n",
       "<style scoped>\n",
       "    .dataframe tbody tr th:only-of-type {\n",
       "        vertical-align: middle;\n",
       "    }\n",
       "\n",
       "    .dataframe tbody tr th {\n",
       "        vertical-align: top;\n",
       "    }\n",
       "\n",
       "    .dataframe thead th {\n",
       "        text-align: right;\n",
       "    }\n",
       "</style>\n",
       "<table border=\"1\" class=\"dataframe\">\n",
       "  <thead>\n",
       "    <tr style=\"text-align: right;\">\n",
       "      <th></th>\n",
       "      <th>coef</th>\n",
       "      <th>se(coef)</th>\n",
       "      <th>lower 95% bound</th>\n",
       "      <th>upper 95% bound</th>\n",
       "    </tr>\n",
       "  </thead>\n",
       "  <tbody>\n",
       "    <tr>\n",
       "      <th>r</th>\n",
       "      <td>0.898965</td>\n",
       "      <td>0.000911</td>\n",
       "      <td>0.897179</td>\n",
       "      <td>0.900751</td>\n",
       "    </tr>\n",
       "    <tr>\n",
       "      <th>alpha</th>\n",
       "      <td>1.076222</td>\n",
       "      <td>0.001670</td>\n",
       "      <td>1.072949</td>\n",
       "      <td>1.079496</td>\n",
       "    </tr>\n",
       "    <tr>\n",
       "      <th>a</th>\n",
       "      <td>0.000014</td>\n",
       "      <td>0.000001</td>\n",
       "      <td>0.000011</td>\n",
       "      <td>0.000016</td>\n",
       "    </tr>\n",
       "    <tr>\n",
       "      <th>b</th>\n",
       "      <td>0.027189</td>\n",
       "      <td>0.001066</td>\n",
       "      <td>0.025099</td>\n",
       "      <td>0.029278</td>\n",
       "    </tr>\n",
       "  </tbody>\n",
       "</table>\n",
       "</div>"
      ],
      "text/plain": [
       "           coef  se(coef)  lower 95% bound  upper 95% bound\n",
       "r      0.898965  0.000911         0.897179         0.900751\n",
       "alpha  1.076222  0.001670         1.072949         1.079496\n",
       "a      0.000014  0.000001         0.000011         0.000016\n",
       "b      0.027189  0.001066         0.025099         0.029278"
      ]
     },
     "execution_count": 55,
     "metadata": {},
     "output_type": "execute_result"
    }
   ],
   "source": [
    "from lifetimes import BetaGeoFitter\n",
    "\n",
    "# similar API to scikit-learn and lifelines.\n",
    "bgf = BetaGeoFitter(penalizer_coef=0.3)\n",
    "bgf.fit(customers['orders'], customers['recency'], customers['tenure'])\n",
    "print(bgf)\n",
    "\n",
    "bgf.summary"
   ]
  },
  {
   "cell_type": "markdown",
   "id": "63da1bcd",
   "metadata": {},
   "source": [
    "Once we have fitted model, we can have the estimation of number of future purchases for the next 1 unit of time (in our case it's one month). We can see that the most valuable customers are the oldest ones (high receny), who make a lot of purchases (high frequency). Which is kind of obvious result, but the valuable thing is, now we have it quantified. For example, we can see that on the early stages one purchase per month does not guarantee us that customer will continue to buy, whereas on the later stages (1-2 years old customers) are still a valuable customers even if the buy once per 2 months."
   ]
  },
  {
   "cell_type": "code",
   "execution_count": 56,
   "id": "79cb76b8",
   "metadata": {},
   "outputs": [
    {
     "data": {
      "image/png": "[encoded data removed]",
      "text/plain": [
       "<Figure size 1120x800 with 2 Axes>"
      ]
     },
     "metadata": {},
     "output_type": "display_data"
    }
   ],
   "source": [
    "from lifetimes.plotting import plot_frequency_recency_matrix\n",
    "\n",
    "\n",
    "plt.figure(figsize=(14, 10), dpi=80)\n",
    "plot_frequency_recency_matrix(bgf)\n",
    "plt.show()"
   ]
  },
  {
   "cell_type": "code",
   "execution_count": 57,
   "id": "e922db22",
   "metadata": {},
   "outputs": [
    {
     "data": {
      "image/png": "[encoded data removed]",
      "text/plain": [
       "<Figure size 1120x800 with 2 Axes>"
      ]
     },
     "metadata": {},
     "output_type": "display_data"
    }
   ],
   "source": [
    "from lifetimes.plotting import plot_probability_alive_matrix\n",
    "\n",
    "plt.figure(figsize=(14, 10), dpi=80)\n",
    "plot_probability_alive_matrix(bgf)\n",
    "plt.show()"
   ]
  },
  {
   "cell_type": "code",
   "execution_count": 58,
   "id": "2046c810",
   "metadata": {},
   "outputs": [
    {
     "data": {
      "text/html": [
       "<div>\n",
       "<style scoped>\n",
       "    .dataframe tbody tr th:only-of-type {\n",
       "        vertical-align: middle;\n",
       "    }\n",
       "\n",
       "    .dataframe tbody tr th {\n",
       "        vertical-align: top;\n",
       "    }\n",
       "\n",
       "    .dataframe thead th {\n",
       "        text-align: right;\n",
       "    }\n",
       "</style>\n",
       "<table border=\"1\" class=\"dataframe\">\n",
       "  <thead>\n",
       "    <tr style=\"text-align: right;\">\n",
       "      <th></th>\n",
       "      <th>msno</th>\n",
       "      <th>orders</th>\n",
       "      <th>first_transaction_month</th>\n",
       "      <th>last_transaction_month</th>\n",
       "      <th>tenure</th>\n",
       "      <th>recency</th>\n",
       "      <th>is_churn</th>\n",
       "      <th>predicted_purchases</th>\n",
       "    </tr>\n",
       "  </thead>\n",
       "  <tbody>\n",
       "    <tr>\n",
       "      <th>207036</th>\n",
       "      <td>D6PQC4MEemxjgPEvhygBJIO//5ZtsHli+zPoqmUKRX0=</td>\n",
       "      <td>6</td>\n",
       "      <td>2017-01-01</td>\n",
       "      <td>2017-02-01</td>\n",
       "      <td>1</td>\n",
       "      <td>1</td>\n",
       "      <td>0.0</td>\n",
       "      <td>3.322824</td>\n",
       "    </tr>\n",
       "    <tr>\n",
       "      <th>321509</th>\n",
       "      <td>LS+84gO0czg6XOUIFA39h5hiPpQHLk61Ebf0XkenfTg=</td>\n",
       "      <td>6</td>\n",
       "      <td>2017-01-01</td>\n",
       "      <td>2017-02-01</td>\n",
       "      <td>1</td>\n",
       "      <td>1</td>\n",
       "      <td>0.0</td>\n",
       "      <td>3.322824</td>\n",
       "    </tr>\n",
       "    <tr>\n",
       "      <th>332407</th>\n",
       "      <td>MEqP6idpSJNOHWWYc2L1RbICc/afp3J47/npcY7RWY8=</td>\n",
       "      <td>6</td>\n",
       "      <td>2017-01-01</td>\n",
       "      <td>2017-02-01</td>\n",
       "      <td>1</td>\n",
       "      <td>1</td>\n",
       "      <td>0.0</td>\n",
       "      <td>3.322824</td>\n",
       "    </tr>\n",
       "    <tr>\n",
       "      <th>363027</th>\n",
       "      <td>OUgtb99y/e2A+vKWRY6dSgYNBK1ts4Gv+N2wpTt9yYc=</td>\n",
       "      <td>6</td>\n",
       "      <td>2017-01-01</td>\n",
       "      <td>2017-02-01</td>\n",
       "      <td>1</td>\n",
       "      <td>1</td>\n",
       "      <td>0.0</td>\n",
       "      <td>3.322824</td>\n",
       "    </tr>\n",
       "    <tr>\n",
       "      <th>614269</th>\n",
       "      <td>goBOEk6NwdsHlWNgH0uCEkYUnSM+0lWj16JzWrJizB4=</td>\n",
       "      <td>6</td>\n",
       "      <td>2017-01-01</td>\n",
       "      <td>2017-02-01</td>\n",
       "      <td>1</td>\n",
       "      <td>1</td>\n",
       "      <td>0.0</td>\n",
       "      <td>3.322824</td>\n",
       "    </tr>\n",
       "  </tbody>\n",
       "</table>\n",
       "</div>"
      ],
      "text/plain": [
       "                                                msno  orders first_transaction_month last_transaction_month  tenure  recency  is_churn  predicted_purchases\n",
       "207036  D6PQC4MEemxjgPEvhygBJIO//5ZtsHli+zPoqmUKRX0=       6              2017-01-01             2017-02-01       1        1       0.0             3.322824\n",
       "321509  LS+84gO0czg6XOUIFA39h5hiPpQHLk61Ebf0XkenfTg=       6              2017-01-01             2017-02-01       1        1       0.0             3.322824\n",
       "332407  MEqP6idpSJNOHWWYc2L1RbICc/afp3J47/npcY7RWY8=       6              2017-01-01             2017-02-01       1        1       0.0             3.322824\n",
       "363027  OUgtb99y/e2A+vKWRY6dSgYNBK1ts4Gv+N2wpTt9yYc=       6              2017-01-01             2017-02-01       1        1       0.0             3.322824\n",
       "614269  goBOEk6NwdsHlWNgH0uCEkYUnSM+0lWj16JzWrJizB4=       6              2017-01-01             2017-02-01       1        1       0.0             3.322824"
      ]
     },
     "execution_count": 58,
     "metadata": {},
     "output_type": "execute_result"
    }
   ],
   "source": [
    "t = 1\n",
    "customers['predicted_purchases'] = bgf.conditional_expected_number_of_purchases_up_to_time(t, customers['orders'], customers['recency'], customers['tenure'])\n",
    "customers.sort_values(by='predicted_purchases').tail(5)"
   ]
  },
  {
   "cell_type": "code",
   "execution_count": 59,
   "id": "bd920e49",
   "metadata": {},
   "outputs": [
    {
     "data": {
      "image/png": "[encoded data removed]",
      "text/plain": [
       "<Figure size 1008x720 with 1 Axes>"
      ]
     },
     "metadata": {},
     "output_type": "display_data"
    }
   ],
   "source": [
    "from lifetimes.plotting import plot_period_transactions\n",
    "\n",
    "plot_period_transactions(bgf,figsize=(14, 10))\n",
    "plt.show()"
   ]
  },
  {
   "cell_type": "code",
   "execution_count": 60,
   "id": "0bc19437",
   "metadata": {},
   "outputs": [
    {
     "ename": "KeyError",
     "evalue": "'frequency_cal'",
     "output_type": "error",
     "traceback": [
      "\u001b[1;31m---------------------------------------------------------------------------\u001b[0m",
      "\u001b[1;31mKeyError\u001b[0m                                  Traceback (most recent call last)",
      "\u001b[1;32m~\\anaconda3\\lib\\site-packages\\pandas\\core\\indexes\\base.py\u001b[0m in \u001b[0;36mget_loc\u001b[1;34m(self, key, method, tolerance)\u001b[0m\n\u001b[0;32m   3079\u001b[0m             \u001b[1;32mtry\u001b[0m\u001b[1;33m:\u001b[0m\u001b[1;33m\u001b[0m\u001b[1;33m\u001b[0m\u001b[0m\n\u001b[1;32m-> 3080\u001b[1;33m                 \u001b[1;32mreturn\u001b[0m \u001b[0mself\u001b[0m\u001b[1;33m.\u001b[0m\u001b[0m_engine\u001b[0m\u001b[1;33m.\u001b[0m\u001b[0mget_loc\u001b[0m\u001b[1;33m(\u001b[0m\u001b[0mcasted_key\u001b[0m\u001b[1;33m)\u001b[0m\u001b[1;33m\u001b[0m\u001b[1;33m\u001b[0m\u001b[0m\n\u001b[0m\u001b[0;32m   3081\u001b[0m             \u001b[1;32mexcept\u001b[0m \u001b[0mKeyError\u001b[0m \u001b[1;32mas\u001b[0m \u001b[0merr\u001b[0m\u001b[1;33m:\u001b[0m\u001b[1;33m\u001b[0m\u001b[1;33m\u001b[0m\u001b[0m\n",
      "\u001b[1;32mpandas\\_libs\\index.pyx\u001b[0m in \u001b[0;36mpandas._libs.index.IndexEngine.get_loc\u001b[1;34m()\u001b[0m\n",
      "\u001b[1;32mpandas\\_libs\\index.pyx\u001b[0m in \u001b[0;36mpandas._libs.index.IndexEngine.get_loc\u001b[1;34m()\u001b[0m\n",
      "\u001b[1;32mpandas\\_libs\\hashtable_class_helper.pxi\u001b[0m in \u001b[0;36mpandas._libs.hashtable.PyObjectHashTable.get_item\u001b[1;34m()\u001b[0m\n",
      "\u001b[1;32mpandas\\_libs\\hashtable_class_helper.pxi\u001b[0m in \u001b[0;36mpandas._libs.hashtable.PyObjectHashTable.get_item\u001b[1;34m()\u001b[0m\n",
      "\u001b[1;31mKeyError\u001b[0m: 'frequency_cal'",
      "\nThe above exception was the direct cause of the following exception:\n",
      "\u001b[1;31mKeyError\u001b[0m                                  Traceback (most recent call last)",
      "\u001b[1;32m<ipython-input-60-b5881a7cac9c>\u001b[0m in \u001b[0;36m<module>\u001b[1;34m\u001b[0m\n\u001b[0;32m      2\u001b[0m \u001b[1;33m\u001b[0m\u001b[0m\n\u001b[0;32m      3\u001b[0m \u001b[0mbgf\u001b[0m \u001b[1;33m=\u001b[0m \u001b[0mBetaGeoFitter\u001b[0m\u001b[1;33m(\u001b[0m\u001b[0mpenalizer_coef\u001b[0m\u001b[1;33m=\u001b[0m\u001b[1;36m0.0\u001b[0m\u001b[1;33m)\u001b[0m\u001b[1;33m\u001b[0m\u001b[1;33m\u001b[0m\u001b[0m\n\u001b[1;32m----> 4\u001b[1;33m \u001b[0mbgf\u001b[0m\u001b[1;33m.\u001b[0m\u001b[0mfit\u001b[0m\u001b[1;33m(\u001b[0m\u001b[0mcustomers\u001b[0m\u001b[1;33m[\u001b[0m\u001b[1;34m'frequency_cal'\u001b[0m\u001b[1;33m]\u001b[0m\u001b[1;33m,\u001b[0m \u001b[0mdf\u001b[0m\u001b[1;33m[\u001b[0m\u001b[1;34m'recency_cal'\u001b[0m\u001b[1;33m]\u001b[0m\u001b[1;33m,\u001b[0m \u001b[0mdf\u001b[0m\u001b[1;33m[\u001b[0m\u001b[1;34m'T_cal'\u001b[0m\u001b[1;33m]\u001b[0m\u001b[1;33m)\u001b[0m\u001b[1;33m\u001b[0m\u001b[1;33m\u001b[0m\u001b[0m\n\u001b[0m\u001b[0;32m      5\u001b[0m \u001b[0mplot_calibration_purchases_vs_holdout_purchases\u001b[0m\u001b[1;33m(\u001b[0m\u001b[0mbgf\u001b[0m\u001b[1;33m,\u001b[0m \u001b[0mdf\u001b[0m\u001b[1;33m,\u001b[0m \u001b[0mfigsize\u001b[0m\u001b[1;33m=\u001b[0m\u001b[1;33m(\u001b[0m\u001b[1;36m14\u001b[0m\u001b[1;33m,\u001b[0m \u001b[1;36m10\u001b[0m\u001b[1;33m)\u001b[0m\u001b[1;33m)\u001b[0m\u001b[1;33m\u001b[0m\u001b[1;33m\u001b[0m\u001b[0m\n\u001b[0;32m      6\u001b[0m \u001b[0mplt\u001b[0m\u001b[1;33m.\u001b[0m\u001b[0mshow\u001b[0m\u001b[1;33m(\u001b[0m\u001b[1;33m)\u001b[0m\u001b[1;33m\u001b[0m\u001b[1;33m\u001b[0m\u001b[0m\n",
      "\u001b[1;32m~\\anaconda3\\lib\\site-packages\\pandas\\core\\frame.py\u001b[0m in \u001b[0;36m__getitem__\u001b[1;34m(self, key)\u001b[0m\n\u001b[0;32m   3022\u001b[0m             \u001b[1;32mif\u001b[0m \u001b[0mself\u001b[0m\u001b[1;33m.\u001b[0m\u001b[0mcolumns\u001b[0m\u001b[1;33m.\u001b[0m\u001b[0mnlevels\u001b[0m \u001b[1;33m>\u001b[0m \u001b[1;36m1\u001b[0m\u001b[1;33m:\u001b[0m\u001b[1;33m\u001b[0m\u001b[1;33m\u001b[0m\u001b[0m\n\u001b[0;32m   3023\u001b[0m                 \u001b[1;32mreturn\u001b[0m \u001b[0mself\u001b[0m\u001b[1;33m.\u001b[0m\u001b[0m_getitem_multilevel\u001b[0m\u001b[1;33m(\u001b[0m\u001b[0mkey\u001b[0m\u001b[1;33m)\u001b[0m\u001b[1;33m\u001b[0m\u001b[1;33m\u001b[0m\u001b[0m\n\u001b[1;32m-> 3024\u001b[1;33m             \u001b[0mindexer\u001b[0m \u001b[1;33m=\u001b[0m \u001b[0mself\u001b[0m\u001b[1;33m.\u001b[0m\u001b[0mcolumns\u001b[0m\u001b[1;33m.\u001b[0m\u001b[0mget_loc\u001b[0m\u001b[1;33m(\u001b[0m\u001b[0mkey\u001b[0m\u001b[1;33m)\u001b[0m\u001b[1;33m\u001b[0m\u001b[1;33m\u001b[0m\u001b[0m\n\u001b[0m\u001b[0;32m   3025\u001b[0m             \u001b[1;32mif\u001b[0m \u001b[0mis_integer\u001b[0m\u001b[1;33m(\u001b[0m\u001b[0mindexer\u001b[0m\u001b[1;33m)\u001b[0m\u001b[1;33m:\u001b[0m\u001b[1;33m\u001b[0m\u001b[1;33m\u001b[0m\u001b[0m\n\u001b[0;32m   3026\u001b[0m                 \u001b[0mindexer\u001b[0m \u001b[1;33m=\u001b[0m \u001b[1;33m[\u001b[0m\u001b[0mindexer\u001b[0m\u001b[1;33m]\u001b[0m\u001b[1;33m\u001b[0m\u001b[1;33m\u001b[0m\u001b[0m\n",
      "\u001b[1;32m~\\anaconda3\\lib\\site-packages\\pandas\\core\\indexes\\base.py\u001b[0m in \u001b[0;36mget_loc\u001b[1;34m(self, key, method, tolerance)\u001b[0m\n\u001b[0;32m   3080\u001b[0m                 \u001b[1;32mreturn\u001b[0m \u001b[0mself\u001b[0m\u001b[1;33m.\u001b[0m\u001b[0m_engine\u001b[0m\u001b[1;33m.\u001b[0m\u001b[0mget_loc\u001b[0m\u001b[1;33m(\u001b[0m\u001b[0mcasted_key\u001b[0m\u001b[1;33m)\u001b[0m\u001b[1;33m\u001b[0m\u001b[1;33m\u001b[0m\u001b[0m\n\u001b[0;32m   3081\u001b[0m             \u001b[1;32mexcept\u001b[0m \u001b[0mKeyError\u001b[0m \u001b[1;32mas\u001b[0m \u001b[0merr\u001b[0m\u001b[1;33m:\u001b[0m\u001b[1;33m\u001b[0m\u001b[1;33m\u001b[0m\u001b[0m\n\u001b[1;32m-> 3082\u001b[1;33m                 \u001b[1;32mraise\u001b[0m \u001b[0mKeyError\u001b[0m\u001b[1;33m(\u001b[0m\u001b[0mkey\u001b[0m\u001b[1;33m)\u001b[0m \u001b[1;32mfrom\u001b[0m \u001b[0merr\u001b[0m\u001b[1;33m\u001b[0m\u001b[1;33m\u001b[0m\u001b[0m\n\u001b[0m\u001b[0;32m   3083\u001b[0m \u001b[1;33m\u001b[0m\u001b[0m\n\u001b[0;32m   3084\u001b[0m         \u001b[1;32mif\u001b[0m \u001b[0mtolerance\u001b[0m \u001b[1;32mis\u001b[0m \u001b[1;32mnot\u001b[0m \u001b[1;32mNone\u001b[0m\u001b[1;33m:\u001b[0m\u001b[1;33m\u001b[0m\u001b[1;33m\u001b[0m\u001b[0m\n",
      "\u001b[1;31mKeyError\u001b[0m: 'frequency_cal'"
     ]
    }
   ],
   "source": [
    "from lifetimes.plotting import plot_calibration_purchases_vs_holdout_purchases\n",
    "\n",
    "bgf = BetaGeoFitter(penalizer_coef=0.0)\n",
    "bgf.fit(customers['frequency_cal'], df['recency_cal'], df['T_cal'])\n",
    "plot_calibration_purchases_vs_holdout_purchases(bgf, df, figsize=(14, 10))\n",
    "plt.show()"
   ]
  },
  {
   "cell_type": "code",
   "execution_count": null,
   "id": "5be07e96",
   "metadata": {},
   "outputs": [],
   "source": [
    "customers['is_alive'] = 1\n",
    "customers.loc[customers['is_churn'] == 1,'is_alive'] = 0"
   ]
  },
  {
   "cell_type": "markdown",
   "id": "f5fcd8c1",
   "metadata": {},
   "source": [
    "## Summary\n",
    "### Pros:\n",
    "\n",
    "  - Statistically or scientifically justified model.\n",
    "  - Provides good out-of-the-box fit for your data. Accurate on average for all customers.\n",
    "  - Provides tools to explain your customers’ behavior. Once the parameters of the model are estimated, we can use them to evaluate the customer lifecycle metrics.\n",
    "  - Works well for non-contractual businesses.\n",
    "\n",
    "### Cons:\n",
    "\n",
    "  - Hard to add new features to the model. The common features are frequency, recency and monetary value, which are usually the most important factors. \n",
    "  - However, if you need to add something on top of that, you would need to add them as covariates to the model.\n",
    "  - While good for average estimations, these models do not show top-tier accuracy on the individual level."
   ]
  },
  {
   "cell_type": "markdown",
   "id": "69fd41c2",
   "metadata": {},
   "source": [
    "Now let's calculate metrics to evaluate model's prediction performance. We will use 4 measures:\n",
    "\n",
    "  * ROC AUC. This is the most commonly used performance metric for binary classification. The value 0.5 means prediction is absolutely random, 1.0 means an ideal prediction.\n",
    "  * Log Loss. This metric allows us to evaluate not only the correctnes of a binary prediction (churn or not), but the proximity of probability estimation. In other words, if the actual churn probability for some customer is 0.8 and our model tells that it's 0.3, from ROC AUC perspective it can be still a perfect model (it doesn't care how far we are from the actual probability untill we have a good threshold value to separate classes), but from Log Loss perspective it is a bad model. The lower value the better, ideal value is 0 without top boundary. A good way to understand whether the value is good or not is to compare it with random guesses.\n",
    "  * ROC and Precision-Recall curves. Similar to ROC AUC, but provide a visual sense of the model quality.\n",
    "  * Calibration curve. This curve shows us how far our probability estimations from actual churn probabilities."
   ]
  },
  {
   "cell_type": "code",
   "execution_count": null,
   "id": "fc10a667",
   "metadata": {},
   "outputs": [],
   "source": [
    "from sklearn.metrics import confusion_matrix, classification_report, cohen_kappa_score, mean_squared_error, roc_curve, precision_recall_curve, roc_auc_score, log_loss\n",
    "from sklearn.model_selection import train_test_split\n",
    "\n",
    "\n",
    "\n",
    "X_train, X_test, y_train, y_test = train_test_split(customers.loc[:, ['orders', 'recency', 'tenure']],\n",
    "                                                    customers['is_alive'].values,\n",
    "                                                    test_size=0.2,\n",
    "                                                    shuffle=True,\n",
    "                                                    random_state=100,\n",
    "                                                    stratify=customers['is_alive'].values\n",
    "                                                   )"
   ]
  },
  {
   "cell_type": "markdown",
   "id": "1a86b91f",
   "metadata": {},
   "source": [
    "This time for the prediction purposes we will use Pareto/NBD model, which is more accurate, but takes more time to train."
   ]
  },
  {
   "cell_type": "code",
   "execution_count": null,
   "id": "48520c27",
   "metadata": {},
   "outputs": [],
   "source": [
    "from lifetimes import ParetoNBDFitter\n",
    "\n",
    "pNBD = ParetoNBDFitter(penalizer_coef=0.3)\n",
    "pNBD.fit(X_train['orders'], X_train['recency'], X_train['tenure'])\n",
    "print(pNBD)"
   ]
  },
  {
   "cell_type": "markdown",
   "id": "f480cd18",
   "metadata": {},
   "source": [
    "For test part let's predict churn probability."
   ]
  },
  {
   "cell_type": "code",
   "execution_count": null,
   "id": "4c270660",
   "metadata": {},
   "outputs": [],
   "source": [
    "X_test['prob_alive_pNBD'] = -1\n",
    "X_test['prob_alive_pNBD'] = pNBD.conditional_probability_alive(X_test['orders'], X_test['recency'], X_test['tenure'])\n",
    "X_test['prob_churn_pNBD'] = 1 - X_test['prob_alive_pNBD']\n",
    "\n",
    "y_test_churn = 1 - y_test\n",
    "y_train_churn = 1 - y_train"
   ]
  },
  {
   "cell_type": "markdown",
   "id": "1c032734",
   "metadata": {},
   "source": [
    "The results are quite good, especially for the fact that we used only 3 features. ROC AUC is 0.77, which is definitely not random. But as we can see Log Loss is pretty high, wihch means that this model have difficulties with churn probability estimation. But such estimation is crucial for LTV prediction."
   ]
  },
  {
   "cell_type": "code",
   "execution_count": null,
   "id": "dc2f7eed",
   "metadata": {},
   "outputs": [],
   "source": [
    "roc_auc_test = roc_auc_score(y_test_churn, X_test['prob_churn_pNBD'])\n",
    "log_loss_test = log_loss(y_test_churn, X_test['prob_churn_pNBD'])\n",
    "baseline_log_loss = log_loss(y_test_churn, [sum(y_train_churn) / len(y_train_churn)] * len(y_test_churn))\n",
    "print('Test ROC AUC: {}\\nTest Log Loss: {}\\nBaseline (random) Log Loss: {}'.format(round(roc_auc_test,6), round(log_loss_test,6), round(baseline_log_loss,6)))\n",
    "print(confusion_matrix(y_test_churn, (X_test['prob_churn_pNBD'] > 0.5) * 1))\n",
    "\n",
    "\n",
    "\n",
    "plt.figure(figsize=(12, 8), dpi=80)\n",
    "fpr, tpr, threshold = roc_curve(y_test_churn, X_test['prob_churn_pNBD'])\n",
    "plt.plot(fpr, tpr, 'c', label = 'Test')\n",
    "plt.title('ROC-curve')\n",
    "plt.legend(loc = 'lower right')\n",
    "plt.plot([0, 1], [0, 1],'r--')\n",
    "plt.ylabel('True Positive Rate')\n",
    "plt.xlabel('False Positive Rate')\n",
    "plt.show()\n",
    "\n",
    "plt.figure(figsize=(12, 8), dpi=80)\n",
    "precision, recall, threshold = precision_recall_curve(y_test_churn, X_test['prob_churn_pNBD'])\n",
    "plt.plot(recall, precision, 'c', label = 'Test set')\n",
    "plt.title('PR-RC-curve')\n",
    "plt.legend(loc = 'lower right')\n",
    "plt.plot([0, 1], [1, 0],'r--')\n",
    "plt.ylabel('Precision')\n",
    "plt.xlabel('Recall')\n",
    "plt.show()"
   ]
  },
  {
   "cell_type": "markdown",
   "id": "348990f6",
   "metadata": {},
   "source": [
    "From the calibration curve we can see that model assigns to low probabilities. For example customers with actual churn probability of 0.6 have 0.2 prediction probability on average."
   ]
  },
  {
   "cell_type": "code",
   "execution_count": null,
   "id": "6f4f2ab4",
   "metadata": {},
   "outputs": [],
   "source": [
    "X_test['churn_batch'] = round(X_test['prob_churn_pNBD'], 1)\n",
    "X_test['is_churn'] = y_test_churn\n",
    "\n",
    "X_test.groupby(['churn_batch'])['is_churn'].mean()"
   ]
  },
  {
   "cell_type": "code",
   "execution_count": null,
   "id": "1f475671",
   "metadata": {},
   "outputs": [],
   "source": [
    "X_test.groupby(['churn_batch'])['is_churn'].count()"
   ]
  },
  {
   "cell_type": "code",
   "execution_count": null,
   "id": "f8a0b6a4",
   "metadata": {},
   "outputs": [],
   "source": [
    "plt.figure(figsize=(12, 8), dpi=80)\n",
    "plt.plot(X_test.groupby(['churn_batch'])['is_churn'].mean(), 'c', label='Actual', linewidth=5)\n",
    "plt.plot([0, 1], [0, 1],'r--', label='Ideal')\n",
    "plt.legend(loc = 'lower right', fontsize='xx-large')\n",
    "plt.title('Calibration curve')\n",
    "plt.ylabel('Actual churn')\n",
    "plt.xlabel('Predicted churn')\n",
    "plt.show()"
   ]
  },
  {
   "cell_type": "markdown",
   "id": "358a9988",
   "metadata": {},
   "source": [
    "# Survival analysis\n",
    "The second approach is to use survavial analysis, which is good for contractual set ups.\n",
    "\n",
    "There is another python library of the same author called LifeLines."
   ]
  },
  {
   "cell_type": "code",
   "execution_count": null,
   "id": "ce53d7a5",
   "metadata": {},
   "outputs": [],
   "source": [
    "from sklearn.metrics import brier_score_loss\n",
    "\n",
    "import lifelines"
   ]
  },
  {
   "cell_type": "markdown",
   "id": "ecc6d179",
   "metadata": {},
   "source": [
    "We can plot Kaplan-Meier survavial curves to see how does survive (1 - churn) probability depends on customer tenure."
   ]
  },
  {
   "cell_type": "code",
   "execution_count": null,
   "id": "25c7a25d",
   "metadata": {},
   "outputs": [],
   "source": [
    "from sklearn.metrics import brier_score_loss\n",
    "\n",
    "import lifelines\n",
    "\n",
    "kmf = lifelines.KaplanMeierFitter()\n",
    "\n",
    "kmf.fit(durations = customers['tenure'], event_observed = customers['is_churn'], \n",
    "        label = 'Estimate for Average Customer')\n",
    "\n",
    "fig, ax = plt.subplots(figsize = (10,7))\n",
    "kmf.plot(at_risk_counts = True, ax=ax)\n",
    "ax.set_title('Kaplan-Meier Survival Curve — All Customers')\n",
    "ax.set_xlabel('Customer Tenure (Months)')\n",
    "ax.set_ylabel('Customer Survival Chance')\n",
    "ax.grid()"
   ]
  },
  {
   "cell_type": "markdown",
   "id": "7989e927",
   "metadata": {},
   "source": [
    "The valuable thing is such curves give us an ability to compare different groups of customers, thus evaluate whether some feature affects churn probability or not."
   ]
  },
  {
   "cell_type": "code",
   "execution_count": null,
   "id": "63882556",
   "metadata": {},
   "outputs": [],
   "source": [
    "def bd_chunk(bd):\n",
    "    if pd.isnull(bd):\n",
    "        x = np.nan\n",
    "    elif bd < 30:\n",
    "        x = 1\n",
    "    elif bd < 50:\n",
    "        x = 2\n",
    "    elif bd < 70:\n",
    "        x = 3\n",
    "    else:\n",
    "        x = 4\n",
    "    return x\n",
    "        \n",
    "\n",
    "transactions['bd_chunk'] = transactions['bd'].apply(bd_chunk)"
   ]
  },
  {
   "cell_type": "code",
   "execution_count": null,
   "id": "5c0f4bdd",
   "metadata": {},
   "outputs": [],
   "source": [
    "transactions.groupby(['bd_chunk'])['msno'].count()"
   ]
  },
  {
   "cell_type": "code",
   "execution_count": null,
   "id": "5bf681f0",
   "metadata": {},
   "outputs": [],
   "source": [
    "transactions.sort_values(by=['msno', 'transaction_date'], ascending=[True, False], inplace=True)\n",
    "\n",
    "\n",
    "customers = \\\n",
    "    customers.merge(\n",
    "        transactions.groupby(['msno'])[['is_auto_renew', \n",
    "                                        'payment_method_id', \n",
    "                                        'city', \n",
    "                                        'bd_chunk', \n",
    "                                        'gender', \n",
    "                                        'registered_via']]\n",
    "                    .first()\n",
    "                    .reset_index(), \n",
    "    how='left', \n",
    "    on=['msno']\n",
    ")"
   ]
  },
  {
   "cell_type": "code",
   "execution_count": null,
   "id": "073014d3",
   "metadata": {},
   "outputs": [],
   "source": [
    "customers.head()"
   ]
  },
  {
   "cell_type": "markdown",
   "id": "67c3d76a",
   "metadata": {},
   "source": [
    "For example, we can see that auto_renew is dramatically reduce churn chances."
   ]
  },
  {
   "cell_type": "code",
   "execution_count": null,
   "id": "f721327a",
   "metadata": {},
   "outputs": [],
   "source": [
    "feature = 'is_auto_renew'\n",
    "\n",
    "fig, ax = plt.subplots(nrows = 1, ncols = 1, figsize = (10,10))\n",
    "for value in customers[feature].unique():\n",
    "    kmf_feature = lifelines.KaplanMeierFitter()\n",
    "    ax = kmf_feature.fit(durations = customers.loc[customers[feature] == value, 'tenure'], \n",
    "                         event_observed = customers.loc[customers[feature] == value, 'is_churn'],\n",
    "                         label = '{}: {}'.format(feature, str(value))).plot(ax = ax)\n",
    "\n",
    "ax.set_title('KM Survival Curve by {}'.format(feature))\n",
    "ax.set_xlabel('Customer Tenure (Months)')\n",
    "ax.set_ylabel('Customer Survival Chance')\n",
    "plt.grid()"
   ]
  },
  {
   "cell_type": "markdown",
   "id": "6f0192ef",
   "metadata": {},
   "source": [
    "Also, we can see that there are 3 groups of payment methods which affect churn probability significantly. For the business it means that there is a lot of value in convincing customers to use one payment method over the other."
   ]
  },
  {
   "cell_type": "code",
   "execution_count": null,
   "id": "08fbe6cc",
   "metadata": {},
   "outputs": [],
   "source": [
    "feature = 'payment_method_id'\n",
    "\n",
    "fig, ax = plt.subplots(nrows = 1, ncols = 1, figsize = (10,10))\n",
    "for value in customers.groupby(feature)['msno'].count().sort_values(ascending=False).index[0:10]:\n",
    "    kmf_feature = lifelines.KaplanMeierFitter()\n",
    "    ax = kmf_feature.fit(durations = customers.loc[customers[feature] == value, 'tenure'], \n",
    "                         event_observed = customers.loc[customers[feature] == value, 'is_churn'],\n",
    "                         label = '{}: {}'.format(feature, str(value))).plot(ax = ax)\n",
    "\n",
    "ax.set_title('KM Survival Curve by {}'.format(feature))\n",
    "ax.set_xlabel('Customer Tenure (Months)')\n",
    "ax.set_ylabel('Customer Survival Chance')\n",
    "plt.grid()"
   ]
  },
  {
   "cell_type": "markdown",
   "id": "8d690b4e",
   "metadata": {},
   "source": [
    "Cities are more or less equall in terms of churn probabilities."
   ]
  },
  {
   "cell_type": "code",
   "execution_count": null,
   "id": "f2c7c600",
   "metadata": {},
   "outputs": [],
   "source": [
    "feature = 'city'\n",
    "\n",
    "fig, ax = plt.subplots(nrows = 1, ncols = 1, figsize = (10,10))\n",
    "for value in customers[feature].unique():\n",
    "    kmf_feature = lifelines.KaplanMeierFitter()\n",
    "    ax = kmf_feature.fit(durations = customers.loc[customers[feature] == value, 'tenure'], \n",
    "                         event_observed = customers.loc[customers[feature] == value, 'is_churn'],\n",
    "                         label = '{}: {}'.format(feature, str(value))).plot(ax = ax)\n",
    "\n",
    "ax.set_title('KM Survival Curve by {}'.format(feature))\n",
    "ax.set_xlabel('Customer Tenure (Months)')\n",
    "ax.set_ylabel('Customer Survival Chance')\n",
    "plt.grid()"
   ]
  },
  {
   "cell_type": "markdown",
   "id": "baac1c89",
   "metadata": {},
   "source": [
    "From the age perspective the yongest and the oldest customers are in high risk of churn."
   ]
  },
  {
   "cell_type": "code",
   "execution_count": null,
   "id": "f8413dce",
   "metadata": {},
   "outputs": [],
   "source": [
    "feature = 'bd_chunk'\n",
    "\n",
    "fig, ax = plt.subplots(nrows = 1, ncols = 1, figsize = (10,10))\n",
    "for value in customers.dropna(subset=[feature])[feature].unique():\n",
    "    kmf_feature = lifelines.KaplanMeierFitter()\n",
    "    ax = kmf_feature.fit(durations = customers.dropna(subset=[feature]).loc[customers[feature] == value, 'tenure'], \n",
    "                         event_observed = customers.dropna(subset=[feature]).loc[customers[feature] == value, 'is_churn'],\n",
    "                         label = '{}: {}'.format(feature, str(value))).plot(ax = ax)\n",
    "\n",
    "ax.set_title('KM Survival Curve by {}'.format(feature))\n",
    "ax.set_xlabel('Customer Tenure (Months)')\n",
    "ax.set_ylabel('Customer Survival Chance')\n",
    "plt.grid()"
   ]
  },
  {
   "cell_type": "markdown",
   "id": "5ba77abb",
   "metadata": {},
   "source": [
    "But genders are the same."
   ]
  },
  {
   "cell_type": "code",
   "execution_count": null,
   "id": "36f12ade",
   "metadata": {},
   "outputs": [],
   "source": [
    "feature = 'gender'\n",
    "\n",
    "fig, ax = plt.subplots(nrows = 1, ncols = 1, figsize = (10,10))\n",
    "for value in customers.dropna(subset=[feature])[feature].unique():\n",
    "    kmf_feature = lifelines.KaplanMeierFitter()\n",
    "    ax = kmf_feature.fit(durations = customers.dropna(subset=[feature]).loc[customers[feature] == value, 'tenure'], \n",
    "                         event_observed = customers.dropna(subset=[feature]).loc[customers[feature] == value, 'is_churn'],\n",
    "                         label = '{}: {}'.format(feature, str(value))).plot(ax = ax)\n",
    "\n",
    "ax.set_title('KM Survival Curve by {}'.format(feature))\n",
    "ax.set_xlabel('Customer Tenure (Months)')\n",
    "ax.set_ylabel('Customer Survival Chance')\n",
    "plt.grid()"
   ]
  },
  {
   "cell_type": "markdown",
   "id": "be296026",
   "metadata": {},
   "source": [
    "Also the channel of attraction matters."
   ]
  },
  {
   "cell_type": "code",
   "execution_count": null,
   "id": "7e29799b",
   "metadata": {},
   "outputs": [],
   "source": [
    "feature = 'registered_via'\n",
    "\n",
    "fig, ax = plt.subplots(nrows = 1, ncols = 1, figsize = (10,10))\n",
    "for value in customers.dropna(subset=[feature])[feature].unique():\n",
    "    kmf_feature = lifelines.KaplanMeierFitter()\n",
    "    ax = kmf_feature.fit(durations = customers.dropna(subset=[feature]).loc[customers[feature] == value, 'tenure'], \n",
    "                         event_observed = customers.dropna(subset=[feature]).loc[customers[feature] == value, 'is_churn'],\n",
    "                         label = '{}: {}'.format(feature, str(value))).plot(ax = ax)\n",
    "\n",
    "ax.set_title('KM Survival Curve by {}'.format(feature))\n",
    "ax.set_xlabel('Customer Tenure (Months)')\n",
    "ax.set_ylabel('Customer Survival Chance')\n",
    "plt.grid()"
   ]
  },
  {
   "cell_type": "code",
   "execution_count": null,
   "id": "739aae89",
   "metadata": {},
   "outputs": [],
   "source": [
    "customers.isnull().sum()"
   ]
  },
  {
   "cell_type": "code",
   "execution_count": null,
   "id": "3a3ac4a4",
   "metadata": {},
   "outputs": [],
   "source": [
    "customers.groupby(['is_auto_renew'])['msno'].count()"
   ]
  },
  {
   "cell_type": "code",
   "execution_count": null,
   "id": "32c56e75",
   "metadata": {},
   "outputs": [],
   "source": [
    "def payment_method_chunk(val):\n",
    "    if pd.isnull(val):\n",
    "        x = np.nan\n",
    "    elif val in [41, 40, 39, 37, 34, 33]:\n",
    "        x = 1\n",
    "    elif val in [30, 36]:\n",
    "        x = 2\n",
    "    elif val in [29, 38]:\n",
    "        x = 3\n",
    "    else:\n",
    "        x = 4\n",
    "    return x\n",
    "        \n",
    "\n",
    "customers['payment_method_chunk'] = customers['payment_method_id'].apply(payment_method_chunk)"
   ]
  },
  {
   "cell_type": "markdown",
   "id": "e3763496",
   "metadata": {},
   "source": [
    "Now let's train our survavial model using payment method and tenure features."
   ]
  },
  {
   "cell_type": "code",
   "execution_count": null,
   "id": "656939f9",
   "metadata": {},
   "outputs": [],
   "source": [
    "customers = pd.get_dummies(customers, columns = ['is_auto_renew', 'payment_method_chunk'], drop_first = False)\n",
    "customers.drop(columns = ['is_auto_renew_1', 'payment_method_chunk_1'], inplace = True)"
   ]
  },
  {
   "cell_type": "code",
   "execution_count": null,
   "id": "987c31c2",
   "metadata": {},
   "outputs": [],
   "source": [
    "data = customers[['payment_method_chunk_2', 'payment_method_chunk_3', 'payment_method_chunk_4', 'tenure', 'is_churn']]\n",
    "\n",
    "\n",
    "X_train, X_test, y_train, y_test = train_test_split(data.loc[:, ['payment_method_chunk_2', 'payment_method_chunk_3', 'payment_method_chunk_4', 'tenure']],\n",
    "                                                    data['is_churn'].values,\n",
    "                                                    test_size=0.2,\n",
    "                                                    shuffle=True,\n",
    "                                                    random_state=100,\n",
    "                                                    stratify=data['is_churn'].values\n",
    "                                                   )\n",
    "\n",
    "data_train = pd.concat([X_train, pd.Series(y_train, index=X_train.index, name='is_churn')], axis=1)\n",
    "data_test = pd.concat([X_test, pd.Series(y_test, index=X_test.index, name='is_churn')], axis=1)"
   ]
  },
  {
   "cell_type": "code",
   "execution_count": null,
   "id": "085135c5",
   "metadata": {},
   "outputs": [],
   "source": [
    "cph = lifelines.CoxPHFitter()\n",
    "cph.fit(data_train, duration_col = 'tenure', event_col = 'is_churn')\n",
    "\n",
    "cph.print_summary(model = 'base model', decimals = 3, columns = ['coef', 'exp(coef)', 'p']) \n",
    "\n",
    "avg_score = np.mean(lifelines.utils.k_fold_cross_validation(cph, data_test, 'tenure',\n",
    "                                'is_churn', k = 3,\n",
    "                                scoring_method = 'concordance_index'))\n",
    "print('The average Concordance Score across 3 folds is: {:.3f}'.format(avg_score))"
   ]
  },
  {
   "cell_type": "markdown",
   "id": "5795ed9c",
   "metadata": {},
   "source": [
    "The average Concordance Score across 3 folds is: 0.791"
   ]
  },
  {
   "cell_type": "code",
   "execution_count": null,
   "id": "4063d08f",
   "metadata": {},
   "outputs": [],
   "source": [
    "probs = 1 - np.array(cph.predict_survival_function(data_test, times = 1).T)"
   ]
  },
  {
   "cell_type": "markdown",
   "id": "1442af92",
   "metadata": {},
   "source": [
    "ROC AUC is relitively similar to Pareto/NBD model -- 0.76, but log loss is much better, still 0.31 is too high. Generally it's a good model, but again with issue in evaluating actual churn probabilities."
   ]
  },
  {
   "cell_type": "code",
   "execution_count": null,
   "id": "45585dd0",
   "metadata": {},
   "outputs": [],
   "source": [
    "roc_auc_test = roc_auc_score(data_test['is_churn'], probs)\n",
    "log_loss_test = log_loss(data_test['is_churn'], probs)\n",
    "# baseline_log_loss = log_loss(y_test_churn, [sum(y_train_churn) / len(y_train_churn)] * len(y_test_churn))\n",
    "print('Test ROC AUC: {}\\nTest Log Loss: {}'.format(round(roc_auc_test,6), round(log_loss_test,6)))\n",
    "print(confusion_matrix(data_test['is_churn'], (probs > 0.5) * 1))\n",
    "\n",
    "\n",
    "\n",
    "plt.figure(figsize=(12, 8), dpi=80)\n",
    "fpr, tpr, threshold = roc_curve(y_test, probs)\n",
    "plt.plot(fpr, tpr, 'c', label = 'Test')\n",
    "plt.title('ROC-curve')\n",
    "plt.legend(loc = 'lower right')\n",
    "plt.plot([0, 1], [0, 1],'r--')\n",
    "plt.ylabel('True Positive Rate')\n",
    "plt.xlabel('False Positive Rate')\n",
    "plt.show()\n",
    "\n",
    "plt.figure(figsize=(12, 8), dpi=80)\n",
    "precision, recall, threshold = precision_recall_curve(y_test, probs)\n",
    "plt.plot(recall, precision, 'c', label = 'Test set')\n",
    "plt.title('PR-RC-curve')\n",
    "plt.legend(loc = 'lower right')\n",
    "plt.plot([0, 1], [1, 0],'r--')\n",
    "plt.ylabel('Precision')\n",
    "plt.xlabel('Recall')\n",
    "plt.show()"
   ]
  },
  {
   "cell_type": "code",
   "execution_count": null,
   "id": "2b60dbb9",
   "metadata": {},
   "outputs": [],
   "source": [
    "from sklearn.calibration import calibration_curve "
   ]
  },
  {
   "cell_type": "code",
   "execution_count": null,
   "id": "16091a95",
   "metadata": {},
   "outputs": [],
   "source": [
    "plt.figure(figsize=(10, 10))\n",
    "ax1 = plt.subplot2grid((3, 1), (0, 0), rowspan=2) \n",
    "\n",
    "ax1.plot([0, 1], [0, 1], ls = '--', label = 'Perfectly calibrated') \n",
    "\n",
    "probs = 1 - np.array(cph.predict_survival_function(data_test, times = 12).T)\n",
    "actual = data_test['is_churn'] \n",
    "\n",
    "fraction_of_positives, mean_predicted_value = calibration_curve(actual, probs, n_bins = 10, strategy = 'quantile') \n",
    "ax1.plot(mean_predicted_value, fraction_of_positives, marker = 's', ls = '-', label='CoxPH') \n",
    "ax1.set_ylabel(\"Actual fraction of positives\") \n",
    "ax1.set_xlabel(\"Predicted churn probability\")\n",
    "ax1.set_ylim([-0.05, 1.05]) \n",
    "ax1.legend(loc=\"lower right\") \n",
    "ax1.set_title('Calibration plots (reliability curve) for the 12th month');"
   ]
  },
  {
   "cell_type": "markdown",
   "id": "306201c2",
   "metadata": {},
   "source": [
    "# 3. Machine learning approach\n",
    "Now let's beat our problem with a multi-purpose hammer -- machine learning.\n",
    "\n",
    "Let's use Random Forest with the same features as we used in Survvival model."
   ]
  },
  {
   "cell_type": "code",
   "execution_count": null,
   "id": "8afa9de9",
   "metadata": {},
   "outputs": [],
   "source": [
    "from sklearn.ensemble import RandomForestClassifier"
   ]
  },
  {
   "cell_type": "code",
   "execution_count": null,
   "id": "3339e758",
   "metadata": {},
   "outputs": [],
   "source": [
    "cols = ['payment_method_chunk_2', 'payment_method_chunk_3', 'payment_method_chunk_4', 'tenure']"
   ]
  },
  {
   "cell_type": "code",
   "execution_count": null,
   "id": "0a9f9835",
   "metadata": {},
   "outputs": [],
   "source": [
    "model = RandomForestClassifier(n_estimators = 1000, max_depth=5)\n",
    "\n",
    "model.fit(X_train,y_train)"
   ]
  },
  {
   "cell_type": "markdown",
   "id": "9df90fd6",
   "metadata": {},
   "source": [
    "Even with the same features it shows much better performance: ROC AUC 0.80, with Log Loss 0.20. Finally we have model with better churn probability estimation than random guessing."
   ]
  },
  {
   "cell_type": "code",
   "execution_count": null,
   "id": "6179c9fa",
   "metadata": {},
   "outputs": [],
   "source": [
    "threshold = 0.5\n",
    "\n",
    "result = (model.predict_proba(X_test)[:,1] > threshold) * 1\n",
    "print(confusion_matrix(y_test, result))\n",
    "print(classification_report(y_test, result))\n",
    "\n",
    "roc_auc_test = roc_auc_score(y_test, model.predict_proba(X_test)[:,1])\n",
    "log_loss_test = log_loss(y_test, model.predict_proba(X_test)[:,1])\n",
    "baseline_log_loss = log_loss(y_test, [sum(y_train) / len(y_train)] * len(y_test))\n",
    "print('Test Overall      ROC AUC: {}, Log Loss: {}, Baseline Log Loss: {}'.format(round(roc_auc_test,6),\n",
    "                                                                     round(log_loss_test,6),\n",
    "                                                                     round(baseline_log_loss,6)\n",
    "                                                                    ))\n",
    "\n",
    "\n",
    "X_train_temp = X_train.copy()\n",
    "X_train_temp['is_churn'] = y_train\n",
    "X_train_temp = X_train_temp.loc[(X_train_temp['frequency'] == 1) & (X_train_temp['subs_orders'] == 0), :]\n",
    "X_test_temp = X_test.copy()\n",
    "X_test_temp['is_churn'] = y_test\n",
    "X_test_temp = X_test_temp.loc[(X_test_temp['frequency'] == 1) & (X_test_temp['subs_orders'] == 0), :]\n",
    "\n",
    "roc_auc_test = roc_auc_score(X_test_temp['is_churn'], model.predict_proba(X_test_temp[cols])[:,1])\n",
    "log_loss_test = log_loss(X_test_temp['is_churn'], model.predict_proba(X_test_temp[cols])[:,1])\n",
    "baseline_log_loss = log_loss(X_test_temp['is_churn'], [sum(X_train_temp['is_churn']) / X_train_temp.shape[0]] * X_test_temp.shape[0])\n",
    "print('Test Try n Bounce ROC AUC: {}, Log Loss: {}, Baseline Log Loss: {}'.format(round(roc_auc_test,6),\n",
    "                                                                     round(log_loss_test,6),\n",
    "                                                                     round(baseline_log_loss,6)\n",
    "                                                                    ))\n",
    "\n",
    "X_train_temp = X_train.copy()\n",
    "X_train_temp['is_churn'] = y_train\n",
    "X_train_temp = X_train_temp.loc[(X_train_temp['frequency'] > 1) & (X_train_temp['subs_orders'] == 0), :]\n",
    "X_test_temp = X_test.copy()\n",
    "X_test_temp['is_churn'] = y_test\n",
    "X_test_temp = X_test_temp.loc[(X_test_temp['frequency'] > 1) & (X_test_temp['subs_orders'] == 0), :]\n",
    "\n",
    "roc_auc_test = roc_auc_score(X_test_temp['is_churn'], model.predict_proba(X_test_temp[cols])[:,1])\n",
    "log_loss_test = log_loss(X_test_temp['is_churn'], model.predict_proba(X_test_temp[cols])[:,1])\n",
    "baseline_log_loss = log_loss(X_test_temp['is_churn'], [sum(X_train_temp['is_churn']) / X_train_temp.shape[0]] * X_test_temp.shape[0])\n",
    "print('Test Irregular    ROC AUC: {}, Log Loss: {}, Baseline Log Loss: {}'.format(round(roc_auc_test,6),\n",
    "                                                                     round(log_loss_test,6),\n",
    "                                                                     round(baseline_log_loss,6)\n",
    "                                                                    ))\n",
    "\n",
    "\n",
    "X_train_temp = X_train.copy()\n",
    "X_train_temp['is_churn'] = y_train\n",
    "X_train_temp = X_train_temp.loc[(X_train_temp['subs_orders'] > 0), :]\n",
    "X_test_temp = X_test.copy()\n",
    "X_test_temp['is_churn'] = y_test\n",
    "X_test_temp = X_test_temp.loc[(X_test_temp['subs_orders'] > 0), :]\n",
    "\n",
    "\n",
    "roc_auc_test = roc_auc_score(X_test_temp['is_churn'], model.predict_proba(X_test_temp[cols])[:,1])\n",
    "log_loss_test = log_loss(X_test_temp['is_churn'], model.predict_proba(X_test_temp[cols])[:,1])\n",
    "baseline_log_loss = log_loss(X_test_temp['is_churn'], [sum(X_train_temp['is_churn']) / X_train_temp.shape[0]] * X_test_temp.shape[0])\n",
    "print('Test Subscribers  ROC AUC: {}, Log Loss: {}, Baseline Log Loss: {}'.format(round(roc_auc_test,6),\n",
    "                                                                     round(log_loss_test,6),\n",
    "                                                                     round(baseline_log_loss,6)\n",
    "                                                                    ))"
   ]
  },
  {
   "cell_type": "markdown",
   "id": "001ef59b",
   "metadata": {},
   "source": [
    "Plus, we can easily see the features importance, which can help us to drive some business decisions."
   ]
  },
  {
   "cell_type": "code",
   "execution_count": null,
   "id": "3630b3b8",
   "metadata": {},
   "outputs": [],
   "source": [
    "feature_importances = pd.DataFrame(model.feature_importances_,\n",
    "                                   index = cols,\n",
    "                                   columns=['importance']).sort_values('importance',  ascending=False)\n",
    "\n",
    "feature_importances"
   ]
  },
  {
   "cell_type": "code",
   "execution_count": null,
   "id": "9e8b4c01",
   "metadata": {},
   "outputs": [],
   "source": [
    "roc_auc_test = roc_auc_score(data_test['is_churn'], probs)\n",
    "log_loss_test = log_loss(data_test['is_churn'], probs)\n",
    "# baseline_log_loss = log_loss(y_test_churn, [sum(y_train_churn) / len(y_train_churn)] * len(y_test_churn))\n",
    "print('Test ROC AUC: {}\\nTest Log Loss: {}'.format(round(roc_auc_test,6), round(log_loss_test,6)))\n",
    "print(confusion_matrix(data_test['is_churn'], (probs > 0.5) * 1))\n",
    "\n",
    "\n",
    "\n",
    "plt.figure(figsize=(12, 8), dpi=80)\n",
    "fpr, tpr, threshold = roc_curve(y_test, probs)\n",
    "plt.plot(fpr, tpr, 'c', label = 'Test')\n",
    "plt.title('ROC-curve')\n",
    "plt.legend(loc = 'lower right')\n",
    "plt.plot([0, 1], [0, 1],'r--')\n",
    "plt.ylabel('True Positive Rate')\n",
    "plt.xlabel('False Positive Rate')\n",
    "plt.show()\n",
    "\n",
    "plt.figure(figsize=(12, 8), dpi=80)\n",
    "precision, recall, threshold = precision_recall_curve(y_test, probs)\n",
    "plt.plot(recall, precision, 'c', label = 'Test set')\n",
    "plt.title('PR-RC-curve')\n",
    "plt.legend(loc = 'lower right')\n",
    "plt.plot([0, 1], [1, 0],'r--')\n",
    "plt.ylabel('Precision')\n",
    "plt.xlabel('Recall')\n",
    "plt.show()"
   ]
  },
  {
   "cell_type": "markdown",
   "id": "dda83eb9",
   "metadata": {},
   "source": [
    "But what if we use more features, such as number of orders, recency, is_auto_renew?"
   ]
  },
  {
   "cell_type": "code",
   "execution_count": null,
   "id": "00a20dbd",
   "metadata": {},
   "outputs": [],
   "source": [
    "cols = ['orders', 'recency', 'is_auto_renew_0', 'payment_method_chunk_2', 'payment_method_chunk_3', 'payment_method_chunk_4', 'tenure']\n",
    "\n",
    "X_train, X_test, y_train, y_test = train_test_split(customers.loc[:, cols],\n",
    "                                                    customers['is_churn'].values,\n",
    "                                                    test_size=0.2,\n",
    "                                                    shuffle=True,\n",
    "                                                    random_state=100,\n",
    "                                                    stratify=customers['is_churn'].values\n",
    "                                                   )"
   ]
  },
  {
   "cell_type": "code",
   "execution_count": null,
   "id": "7723dfe3",
   "metadata": {},
   "outputs": [],
   "source": [
    "model = RandomForestClassifier(n_estimators = 1000, max_depth=5)\n",
    "\n",
    "model.fit(X_train,y_train)"
   ]
  },
  {
   "cell_type": "markdown",
   "id": "d05bae0b",
   "metadata": {},
   "source": [
    "The result is even better -- ROC AUC becomes 0.85, Log Loss 0.17. That's already a good to implement model, which should help us to predict customers churn rates much better than some rule-based models."
   ]
  },
  {
   "cell_type": "code",
   "execution_count": null,
   "id": "80baa639",
   "metadata": {},
   "outputs": [],
   "source": [
    "probs = model.predict_proba(X_test)[:,1]\n",
    "\n",
    "roc_auc_test = roc_auc_score(y_test, probs)\n",
    "log_loss_test = log_loss(y_test, probs)\n",
    "# baseline_log_loss = log_loss(y_test_churn, [sum(y_train_churn) / len(y_train_churn)] * len(y_test_churn))\n",
    "print('Test ROC AUC: {}\\nTest Log Loss: {}'.format(round(roc_auc_test,6), round(log_loss_test,6)))\n",
    "print(confusion_matrix(y_test, (probs > 0.5) * 1))\n",
    "\n",
    "\n",
    "\n",
    "plt.figure(figsize=(12, 8), dpi=80)\n",
    "fpr, tpr, threshold = roc_curve(y_test, probs)\n",
    "plt.plot(fpr, tpr, 'c', label = 'Test')\n",
    "plt.title('ROC-curve')\n",
    "plt.legend(loc = 'lower right')\n",
    "plt.plot([0, 1], [0, 1],'r--')\n",
    "plt.ylabel('True Positive Rate')\n",
    "plt.xlabel('False Positive Rate')\n",
    "plt.show()\n",
    "\n",
    "plt.figure(figsize=(12, 8), dpi=80)\n",
    "precision, recall, threshold = precision_recall_curve(y_test, probs)\n",
    "plt.plot(recall, precision, 'c', label = 'Test set')\n",
    "plt.title('PR-RC-curve')\n",
    "plt.legend(loc = 'lower right')\n",
    "plt.plot([0, 1], [1, 0],'r--')\n",
    "plt.ylabel('Precision')\n",
    "plt.xlabel('Recall')\n",
    "plt.show()"
   ]
  },
  {
   "cell_type": "markdown",
   "id": "9b84e30b",
   "metadata": {},
   "source": [
    "# Conclusion\n",
    "In this article we compared different approaches for churn modelling, describing their pros and cons. Statistical models and survival analysis provide a good ways for data exploration and understanding your customers better. Whereas machine learning models currently sound better in terms of flexibility, accuracy metrics and churn probability estimation. Anyway, churn prediction is always about how well you understand your customers and it is useful to analyse them from different sides. Sometimes simple model is good to go, sometimes you need some advanced tricks to reach the needed accuracy. No matter what your case is, we are happy to discuss and help with it."
   ]
  }
 ],
 "metadata": {
  "kernelspec": {
   "display_name": "Python 3",
   "language": "python",
   "name": "python3"
  },
  "language_info": {
   "codemirror_mode": {
    "name": "ipython",
    "version": 3
   },
   "file_extension": ".py",
   "mimetype": "text/x-python",
   "name": "python",
   "nbconvert_exporter": "python",
   "pygments_lexer": "ipython3",
   "version": "3.8.8"
  },
  "varInspector": {
   "cols": {
    "lenName": 16,
    "lenType": 16,
    "lenVar": 40
   },
   "kernels_config": {
    "python": {
     "delete_cmd_postfix": "",
     "delete_cmd_prefix": "del ",
     "library": "var_list.py",
     "varRefreshCmd": "print(var_dic_list())"
    },
    "r": {
     "delete_cmd_postfix": ") ",
     "delete_cmd_prefix": "rm(",
     "library": "var_list.r",
     "varRefreshCmd": "cat(var_dic_list()) "
    }
   },
   "types_to_exclude": [
    "module",
    "function",
    "builtin_function_or_method",
    "instance",
    "_Feature"
   ],
   "window_display": false
  }
 },
 "nbformat": 4,
 "nbformat_minor": 5
}
